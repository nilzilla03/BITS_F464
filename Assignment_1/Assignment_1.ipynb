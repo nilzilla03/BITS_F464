{
  "nbformat": 4,
  "nbformat_minor": 0,
  "metadata": {
    "colab": {
      "provenance": []
    },
    "kernelspec": {
      "name": "python3",
      "display_name": "Python 3"
    },
    "language_info": {
      "name": "python"
    }
  },
  "cells": [
    {
      "cell_type": "markdown",
      "source": [
        "##**BITS F464 - Semester 1 - MACHINE LEARNING**\n",
        "--------------------------------------------------------------------------------\n",
        "\n",
        "**ASSIGNMENT 1 - LINEAR MODELS FOR REGRESSION AND CLASSIFICATION**\n",
        "--------------------------------------------------------------------------------\n",
        "***Team number: 23***\n",
        "\n",
        "---\n",
        "***Group Members: Nilay Girgaonkar, Harshavardhan Gali, Krittika Paul, Shrey Singhal, Avaneesh Kulkarni***\n",
        "\n",
        "---\n",
        "***ID Numbers: 2021AAPS0566H, 2021AAPS0691H, 2021AAPS0628H, 2021A4PS3097H, 2021A4PS2560H***\n"
      ],
      "metadata": {
        "id": "Vj_r89FzT41w"
      }
    },
    {
      "cell_type": "markdown",
      "source": [
        "This assignment aims to identify the differences between three sets of Machine Learning models."
      ],
      "metadata": {
        "id": "Z_duS0Zn17c3"
      }
    },
    {
      "cell_type": "markdown",
      "source": [
        "# **_1. Dataset Generation_**"
      ],
      "metadata": {
        "id": "yT-dTtra2h2n"
      }
    },
    {
      "cell_type": "markdown",
      "source": [
        "You are given a sample Diabetes dataset. Using this, please develop your own dataset consisting of 500 records. You can use the given code to generate your own dataset. Submit the generated dataset as a .csv file along with your python notebook."
      ],
      "metadata": {
        "id": "2UsOVUj22wrz"
      }
    },
    {
      "cell_type": "markdown",
      "source": [
        "#We have commented out the data generation part as we have generated the dataset in another notebook and are importing the dataset to use here"
      ],
      "metadata": {
        "id": "Us1lH8EmOYwg"
      }
    },
    {
      "cell_type": "code",
      "source": [
        "\"\"\"%pip install sdv\n",
        "%pip install urllib3==1.26.7\n",
        "restart runtime after this\"\"\""
      ],
      "metadata": {
        "id": "N8uONwSjNSc-",
        "colab": {
          "base_uri": "https://localhost:8080/",
          "height": 35
        },
        "outputId": "4bec8e53-643a-4b39-ff02-6128b56ce702"
      },
      "execution_count": null,
      "outputs": [
        {
          "output_type": "execute_result",
          "data": {
            "text/plain": [
              "'%pip install sdv\\n%pip install urllib3==1.26.7\\nrestart runtime after this'"
            ],
            "application/vnd.google.colaboratory.intrinsic+json": {
              "type": "string"
            }
          },
          "metadata": {},
          "execution_count": 1
        }
      ]
    },
    {
      "cell_type": "code",
      "source": [
        "\"\"\"from google.colab import drive\n",
        "drive.mount('/content/drive')\n",
        "import os\n",
        "\n",
        "# Set the search parameters\n",
        "filename = 'diabetes.xlsx'\n",
        "search_path = '/content/drive/My Drive'\n",
        "\n",
        "# Search for the file\n",
        "for root, dirs, files in os.walk(search_path):\n",
        "    if filename in files:\n",
        "        file_path = os.path.join(root, filename)\n",
        "        break\n",
        "\n",
        "import pandas as pd\n",
        "\n",
        "# Load the excel file into a DataFrame\n",
        "df = pd.read_excel(file_path)\n",
        "# View the first few rows of the DataFrame\n",
        "df.head()\n",
        "from sdv.metadata import SingleTableMetadata\n",
        "#Generate metadeta\n",
        "metadata = SingleTableMetadata()\n",
        "\n",
        "metadata.detect_from_dataframe(data=df)\n",
        "from sdv.lite import SingleTablePreset\n",
        "\n",
        "synthesizer = SingleTablePreset(\n",
        "    metadata,\n",
        "    name='FAST_ML'\n",
        ")\n",
        "synthesizer.fit(\n",
        "    data=df\n",
        ")\n",
        "synthetic_data = synthesizer.sample(\n",
        "    num_rows=500\n",
        ")\n",
        "\n",
        "synthetic_data.head()\n",
        "synthesizer.save('my_synthesizer.pkl')\n",
        "\n",
        "synthesizer = SingleTablePreset.load('my_synthesizer.pkl')\n",
        "###export dataframe as csv\n",
        "synthetic_data.to_csv('synthetic_data_diabetes.csv')\"\"\""
      ],
      "metadata": {
        "colab": {
          "base_uri": "https://localhost:8080/",
          "height": 105
        },
        "id": "W-YoY0lGhSRJ",
        "outputId": "b216de2a-6a3e-4da0-afcc-908933431913"
      },
      "execution_count": null,
      "outputs": [
        {
          "output_type": "execute_result",
          "data": {
            "text/plain": [
              "\"from google.colab import drive\\ndrive.mount('/content/drive')\\nimport os\\n\\n# Set the search parameters\\nfilename = 'diabetes.xlsx'\\nsearch_path = '/content/drive/My Drive'\\n\\n# Search for the file\\nfor root, dirs, files in os.walk(search_path):\\n    if filename in files:\\n        file_path = os.path.join(root, filename)\\n        break\\n\\nimport pandas as pd\\n\\n# Load the excel file into a DataFrame\\ndf = pd.read_excel(file_path)\\n# View the first few rows of the DataFrame\\ndf.head()\\nfrom sdv.metadata import SingleTableMetadata\\n#Generate metadeta\\nmetadata = SingleTableMetadata()\\n\\nmetadata.detect_from_dataframe(data=df)\\nfrom sdv.lite import SingleTablePreset\\n\\nsynthesizer = SingleTablePreset(\\n    metadata,\\n    name='FAST_ML'\\n)\\nsynthesizer.fit(\\n    data=df\\n)\\nsynthetic_data = synthesizer.sample(\\n    num_rows=500\\n)\\n\\nsynthetic_data.head()\\nsynthesizer.save('my_synthesizer.pkl')\\n\\nsynthesizer = SingleTablePreset.load('my_synthesizer.pkl')\\n###export dataframe as csv\\nsynthetic_data.to_csv('synthetic_data_diabetes.csv')\""
            ],
            "application/vnd.google.colaboratory.intrinsic+json": {
              "type": "string"
            }
          },
          "metadata": {},
          "execution_count": 2
        }
      ]
    },
    {
      "cell_type": "markdown",
      "source": [
        "\n",
        "\n",
        "```\n",
        "# This is formatted as code\n",
        "```\n",
        "\n",
        "# ***2. Preprocessing and performing exploratory data analysis of the dataset obtained***"
      ],
      "metadata": {
        "id": "rDu7bwbNRhaK"
      }
    },
    {
      "cell_type": "markdown",
      "source": [
        "#We are importing the file from google drive as we have already synthesised the data before\n",
        "\n",
        "\n"
      ],
      "metadata": {
        "id": "5IJDCAgpOD0P"
      }
    },
    {
      "cell_type": "code",
      "source": [
        "#Importing all libraries\n",
        "import numpy as np\n",
        "import pandas as pd\n",
        "import matplotlib.pyplot as plt\n",
        "import seaborn as sns\n",
        "import math\n",
        "from google.colab import drive\n",
        "drive.mount('/content/drive')\n",
        "import os\n",
        "\n",
        "# Set the search parameters\n",
        "filename = 'synthetic_data_diabetes.csv'\n",
        "search_path = '/content/drive/My Drive'\n",
        "\n",
        "# Search for the file\n",
        "for root, dirs, files in os.walk(search_path):\n",
        "    if filename in files:\n",
        "        file_path = os.path.join(root, filename)\n",
        "        break\n",
        "\n",
        "import pandas as pd\n",
        "\n",
        "# Load the csv file into a DataFrame\n",
        "data = pd.read_csv(file_path)\n",
        "data = data.iloc[0:500, 1:]\n",
        "# View the first few rows of the DataFrame\n",
        "data.head()"
      ],
      "metadata": {
        "id": "oAd4cNwERr90",
        "colab": {
          "base_uri": "https://localhost:8080/",
          "height": 224
        },
        "outputId": "4b3f073b-231e-4978-8e31-42b6cb34468f"
      },
      "execution_count": null,
      "outputs": [
        {
          "output_type": "stream",
          "name": "stdout",
          "text": [
            "Drive already mounted at /content/drive; to attempt to forcibly remount, call drive.mount(\"/content/drive\", force_remount=True).\n"
          ]
        },
        {
          "output_type": "execute_result",
          "data": {
            "text/plain": [
              "   Pregnancies  Glucose  BloodPressure  SkinThickness  Insulin        BMI  \\\n",
              "0            7      149             96             19       10  38.387409   \n",
              "1            0      151             44              6      105  26.125923   \n",
              "2            3      169             57             24      240  33.224573   \n",
              "3            4       86             61             35        0  32.918264   \n",
              "4            6       75             62             31       77  37.453830   \n",
              "\n",
              "   DiabetesPedigreeFunction  Age  Outcome  \n",
              "0                  0.561331   40        1  \n",
              "1                  0.463959   27        1  \n",
              "2                  0.541364   36        0  \n",
              "3                  0.526311   39        0  \n",
              "4                  0.178734   21        0  "
            ],
            "text/html": [
              "\n",
              "  <div id=\"df-fad72c3c-54b5-4c62-a35b-df3d9e0c2c30\" class=\"colab-df-container\">\n",
              "    <div>\n",
              "<style scoped>\n",
              "    .dataframe tbody tr th:only-of-type {\n",
              "        vertical-align: middle;\n",
              "    }\n",
              "\n",
              "    .dataframe tbody tr th {\n",
              "        vertical-align: top;\n",
              "    }\n",
              "\n",
              "    .dataframe thead th {\n",
              "        text-align: right;\n",
              "    }\n",
              "</style>\n",
              "<table border=\"1\" class=\"dataframe\">\n",
              "  <thead>\n",
              "    <tr style=\"text-align: right;\">\n",
              "      <th></th>\n",
              "      <th>Pregnancies</th>\n",
              "      <th>Glucose</th>\n",
              "      <th>BloodPressure</th>\n",
              "      <th>SkinThickness</th>\n",
              "      <th>Insulin</th>\n",
              "      <th>BMI</th>\n",
              "      <th>DiabetesPedigreeFunction</th>\n",
              "      <th>Age</th>\n",
              "      <th>Outcome</th>\n",
              "    </tr>\n",
              "  </thead>\n",
              "  <tbody>\n",
              "    <tr>\n",
              "      <th>0</th>\n",
              "      <td>7</td>\n",
              "      <td>149</td>\n",
              "      <td>96</td>\n",
              "      <td>19</td>\n",
              "      <td>10</td>\n",
              "      <td>38.387409</td>\n",
              "      <td>0.561331</td>\n",
              "      <td>40</td>\n",
              "      <td>1</td>\n",
              "    </tr>\n",
              "    <tr>\n",
              "      <th>1</th>\n",
              "      <td>0</td>\n",
              "      <td>151</td>\n",
              "      <td>44</td>\n",
              "      <td>6</td>\n",
              "      <td>105</td>\n",
              "      <td>26.125923</td>\n",
              "      <td>0.463959</td>\n",
              "      <td>27</td>\n",
              "      <td>1</td>\n",
              "    </tr>\n",
              "    <tr>\n",
              "      <th>2</th>\n",
              "      <td>3</td>\n",
              "      <td>169</td>\n",
              "      <td>57</td>\n",
              "      <td>24</td>\n",
              "      <td>240</td>\n",
              "      <td>33.224573</td>\n",
              "      <td>0.541364</td>\n",
              "      <td>36</td>\n",
              "      <td>0</td>\n",
              "    </tr>\n",
              "    <tr>\n",
              "      <th>3</th>\n",
              "      <td>4</td>\n",
              "      <td>86</td>\n",
              "      <td>61</td>\n",
              "      <td>35</td>\n",
              "      <td>0</td>\n",
              "      <td>32.918264</td>\n",
              "      <td>0.526311</td>\n",
              "      <td>39</td>\n",
              "      <td>0</td>\n",
              "    </tr>\n",
              "    <tr>\n",
              "      <th>4</th>\n",
              "      <td>6</td>\n",
              "      <td>75</td>\n",
              "      <td>62</td>\n",
              "      <td>31</td>\n",
              "      <td>77</td>\n",
              "      <td>37.453830</td>\n",
              "      <td>0.178734</td>\n",
              "      <td>21</td>\n",
              "      <td>0</td>\n",
              "    </tr>\n",
              "  </tbody>\n",
              "</table>\n",
              "</div>\n",
              "    <div class=\"colab-df-buttons\">\n",
              "\n",
              "  <div class=\"colab-df-container\">\n",
              "    <button class=\"colab-df-convert\" onclick=\"convertToInteractive('df-fad72c3c-54b5-4c62-a35b-df3d9e0c2c30')\"\n",
              "            title=\"Convert this dataframe to an interactive table.\"\n",
              "            style=\"display:none;\">\n",
              "\n",
              "  <svg xmlns=\"http://www.w3.org/2000/svg\" height=\"24px\" viewBox=\"0 -960 960 960\">\n",
              "    <path d=\"M120-120v-720h720v720H120Zm60-500h600v-160H180v160Zm220 220h160v-160H400v160Zm0 220h160v-160H400v160ZM180-400h160v-160H180v160Zm440 0h160v-160H620v160ZM180-180h160v-160H180v160Zm440 0h160v-160H620v160Z\"/>\n",
              "  </svg>\n",
              "    </button>\n",
              "\n",
              "  <style>\n",
              "    .colab-df-container {\n",
              "      display:flex;\n",
              "      gap: 12px;\n",
              "    }\n",
              "\n",
              "    .colab-df-convert {\n",
              "      background-color: #E8F0FE;\n",
              "      border: none;\n",
              "      border-radius: 50%;\n",
              "      cursor: pointer;\n",
              "      display: none;\n",
              "      fill: #1967D2;\n",
              "      height: 32px;\n",
              "      padding: 0 0 0 0;\n",
              "      width: 32px;\n",
              "    }\n",
              "\n",
              "    .colab-df-convert:hover {\n",
              "      background-color: #E2EBFA;\n",
              "      box-shadow: 0px 1px 2px rgba(60, 64, 67, 0.3), 0px 1px 3px 1px rgba(60, 64, 67, 0.15);\n",
              "      fill: #174EA6;\n",
              "    }\n",
              "\n",
              "    .colab-df-buttons div {\n",
              "      margin-bottom: 4px;\n",
              "    }\n",
              "\n",
              "    [theme=dark] .colab-df-convert {\n",
              "      background-color: #3B4455;\n",
              "      fill: #D2E3FC;\n",
              "    }\n",
              "\n",
              "    [theme=dark] .colab-df-convert:hover {\n",
              "      background-color: #434B5C;\n",
              "      box-shadow: 0px 1px 3px 1px rgba(0, 0, 0, 0.15);\n",
              "      filter: drop-shadow(0px 1px 2px rgba(0, 0, 0, 0.3));\n",
              "      fill: #FFFFFF;\n",
              "    }\n",
              "  </style>\n",
              "\n",
              "    <script>\n",
              "      const buttonEl =\n",
              "        document.querySelector('#df-fad72c3c-54b5-4c62-a35b-df3d9e0c2c30 button.colab-df-convert');\n",
              "      buttonEl.style.display =\n",
              "        google.colab.kernel.accessAllowed ? 'block' : 'none';\n",
              "\n",
              "      async function convertToInteractive(key) {\n",
              "        const element = document.querySelector('#df-fad72c3c-54b5-4c62-a35b-df3d9e0c2c30');\n",
              "        const dataTable =\n",
              "          await google.colab.kernel.invokeFunction('convertToInteractive',\n",
              "                                                    [key], {});\n",
              "        if (!dataTable) return;\n",
              "\n",
              "        const docLinkHtml = 'Like what you see? Visit the ' +\n",
              "          '<a target=\"_blank\" href=https://colab.research.google.com/notebooks/data_table.ipynb>data table notebook</a>'\n",
              "          + ' to learn more about interactive tables.';\n",
              "        element.innerHTML = '';\n",
              "        dataTable['output_type'] = 'display_data';\n",
              "        await google.colab.output.renderOutput(dataTable, element);\n",
              "        const docLink = document.createElement('div');\n",
              "        docLink.innerHTML = docLinkHtml;\n",
              "        element.appendChild(docLink);\n",
              "      }\n",
              "    </script>\n",
              "  </div>\n",
              "\n",
              "\n",
              "<div id=\"df-68bef456-dae6-46f9-b769-20686f9e8d06\">\n",
              "  <button class=\"colab-df-quickchart\" onclick=\"quickchart('df-68bef456-dae6-46f9-b769-20686f9e8d06')\"\n",
              "            title=\"Suggest charts.\"\n",
              "            style=\"display:none;\">\n",
              "\n",
              "<svg xmlns=\"http://www.w3.org/2000/svg\" height=\"24px\"viewBox=\"0 0 24 24\"\n",
              "     width=\"24px\">\n",
              "    <g>\n",
              "        <path d=\"M19 3H5c-1.1 0-2 .9-2 2v14c0 1.1.9 2 2 2h14c1.1 0 2-.9 2-2V5c0-1.1-.9-2-2-2zM9 17H7v-7h2v7zm4 0h-2V7h2v10zm4 0h-2v-4h2v4z\"/>\n",
              "    </g>\n",
              "</svg>\n",
              "  </button>\n",
              "\n",
              "<style>\n",
              "  .colab-df-quickchart {\n",
              "      --bg-color: #E8F0FE;\n",
              "      --fill-color: #1967D2;\n",
              "      --hover-bg-color: #E2EBFA;\n",
              "      --hover-fill-color: #174EA6;\n",
              "      --disabled-fill-color: #AAA;\n",
              "      --disabled-bg-color: #DDD;\n",
              "  }\n",
              "\n",
              "  [theme=dark] .colab-df-quickchart {\n",
              "      --bg-color: #3B4455;\n",
              "      --fill-color: #D2E3FC;\n",
              "      --hover-bg-color: #434B5C;\n",
              "      --hover-fill-color: #FFFFFF;\n",
              "      --disabled-bg-color: #3B4455;\n",
              "      --disabled-fill-color: #666;\n",
              "  }\n",
              "\n",
              "  .colab-df-quickchart {\n",
              "    background-color: var(--bg-color);\n",
              "    border: none;\n",
              "    border-radius: 50%;\n",
              "    cursor: pointer;\n",
              "    display: none;\n",
              "    fill: var(--fill-color);\n",
              "    height: 32px;\n",
              "    padding: 0;\n",
              "    width: 32px;\n",
              "  }\n",
              "\n",
              "  .colab-df-quickchart:hover {\n",
              "    background-color: var(--hover-bg-color);\n",
              "    box-shadow: 0 1px 2px rgba(60, 64, 67, 0.3), 0 1px 3px 1px rgba(60, 64, 67, 0.15);\n",
              "    fill: var(--button-hover-fill-color);\n",
              "  }\n",
              "\n",
              "  .colab-df-quickchart-complete:disabled,\n",
              "  .colab-df-quickchart-complete:disabled:hover {\n",
              "    background-color: var(--disabled-bg-color);\n",
              "    fill: var(--disabled-fill-color);\n",
              "    box-shadow: none;\n",
              "  }\n",
              "\n",
              "  .colab-df-spinner {\n",
              "    border: 2px solid var(--fill-color);\n",
              "    border-color: transparent;\n",
              "    border-bottom-color: var(--fill-color);\n",
              "    animation:\n",
              "      spin 1s steps(1) infinite;\n",
              "  }\n",
              "\n",
              "  @keyframes spin {\n",
              "    0% {\n",
              "      border-color: transparent;\n",
              "      border-bottom-color: var(--fill-color);\n",
              "      border-left-color: var(--fill-color);\n",
              "    }\n",
              "    20% {\n",
              "      border-color: transparent;\n",
              "      border-left-color: var(--fill-color);\n",
              "      border-top-color: var(--fill-color);\n",
              "    }\n",
              "    30% {\n",
              "      border-color: transparent;\n",
              "      border-left-color: var(--fill-color);\n",
              "      border-top-color: var(--fill-color);\n",
              "      border-right-color: var(--fill-color);\n",
              "    }\n",
              "    40% {\n",
              "      border-color: transparent;\n",
              "      border-right-color: var(--fill-color);\n",
              "      border-top-color: var(--fill-color);\n",
              "    }\n",
              "    60% {\n",
              "      border-color: transparent;\n",
              "      border-right-color: var(--fill-color);\n",
              "    }\n",
              "    80% {\n",
              "      border-color: transparent;\n",
              "      border-right-color: var(--fill-color);\n",
              "      border-bottom-color: var(--fill-color);\n",
              "    }\n",
              "    90% {\n",
              "      border-color: transparent;\n",
              "      border-bottom-color: var(--fill-color);\n",
              "    }\n",
              "  }\n",
              "</style>\n",
              "\n",
              "  <script>\n",
              "    async function quickchart(key) {\n",
              "      const quickchartButtonEl =\n",
              "        document.querySelector('#' + key + ' button');\n",
              "      quickchartButtonEl.disabled = true;  // To prevent multiple clicks.\n",
              "      quickchartButtonEl.classList.add('colab-df-spinner');\n",
              "      try {\n",
              "        const charts = await google.colab.kernel.invokeFunction(\n",
              "            'suggestCharts', [key], {});\n",
              "      } catch (error) {\n",
              "        console.error('Error during call to suggestCharts:', error);\n",
              "      }\n",
              "      quickchartButtonEl.classList.remove('colab-df-spinner');\n",
              "      quickchartButtonEl.classList.add('colab-df-quickchart-complete');\n",
              "    }\n",
              "    (() => {\n",
              "      let quickchartButtonEl =\n",
              "        document.querySelector('#df-68bef456-dae6-46f9-b769-20686f9e8d06 button');\n",
              "      quickchartButtonEl.style.display =\n",
              "        google.colab.kernel.accessAllowed ? 'block' : 'none';\n",
              "    })();\n",
              "  </script>\n",
              "</div>\n",
              "    </div>\n",
              "  </div>\n"
            ]
          },
          "metadata": {},
          "execution_count": 3
        }
      ]
    },
    {
      "cell_type": "markdown",
      "source": [
        "### Here, we can see that our dataset consists of 8 features and 1 outcome column. The features are as follows:\n",
        ">\n",
        "\n",
        "1.   Pregnancies\n",
        "2.   Glucose\n",
        "3.   Blood Pressure\n",
        "4.   Skin Thickness\n",
        "5.   Insulin\n",
        "6.   BMI\n",
        "7.   Diabetes Pedigree Function\n",
        "8.   Age\n",
        "\n"
      ],
      "metadata": {
        "id": "4NGtXE72pt_6"
      }
    },
    {
      "cell_type": "code",
      "source": [
        "#Splitting data into features and target values\n",
        "X_complete = data.iloc[:,0:8]\n",
        "Y_complete = data.iloc[:,8:]"
      ],
      "metadata": {
        "id": "WHEsOZ7Eogzv"
      },
      "execution_count": null,
      "outputs": []
    },
    {
      "cell_type": "code",
      "source": [
        "#First 5 rows of features\n",
        "X_complete.head()"
      ],
      "metadata": {
        "colab": {
          "base_uri": "https://localhost:8080/",
          "height": 206
        },
        "id": "VcLFOjDrrJEg",
        "outputId": "744dfe19-f4b3-4264-94c9-beb2618bc9d8"
      },
      "execution_count": null,
      "outputs": [
        {
          "output_type": "execute_result",
          "data": {
            "text/plain": [
              "   Pregnancies  Glucose  BloodPressure  SkinThickness  Insulin        BMI  \\\n",
              "0            7      149             96             19       10  38.387409   \n",
              "1            0      151             44              6      105  26.125923   \n",
              "2            3      169             57             24      240  33.224573   \n",
              "3            4       86             61             35        0  32.918264   \n",
              "4            6       75             62             31       77  37.453830   \n",
              "\n",
              "   DiabetesPedigreeFunction  Age  \n",
              "0                  0.561331   40  \n",
              "1                  0.463959   27  \n",
              "2                  0.541364   36  \n",
              "3                  0.526311   39  \n",
              "4                  0.178734   21  "
            ],
            "text/html": [
              "\n",
              "  <div id=\"df-53083d07-0398-4d36-8602-895656536c65\" class=\"colab-df-container\">\n",
              "    <div>\n",
              "<style scoped>\n",
              "    .dataframe tbody tr th:only-of-type {\n",
              "        vertical-align: middle;\n",
              "    }\n",
              "\n",
              "    .dataframe tbody tr th {\n",
              "        vertical-align: top;\n",
              "    }\n",
              "\n",
              "    .dataframe thead th {\n",
              "        text-align: right;\n",
              "    }\n",
              "</style>\n",
              "<table border=\"1\" class=\"dataframe\">\n",
              "  <thead>\n",
              "    <tr style=\"text-align: right;\">\n",
              "      <th></th>\n",
              "      <th>Pregnancies</th>\n",
              "      <th>Glucose</th>\n",
              "      <th>BloodPressure</th>\n",
              "      <th>SkinThickness</th>\n",
              "      <th>Insulin</th>\n",
              "      <th>BMI</th>\n",
              "      <th>DiabetesPedigreeFunction</th>\n",
              "      <th>Age</th>\n",
              "    </tr>\n",
              "  </thead>\n",
              "  <tbody>\n",
              "    <tr>\n",
              "      <th>0</th>\n",
              "      <td>7</td>\n",
              "      <td>149</td>\n",
              "      <td>96</td>\n",
              "      <td>19</td>\n",
              "      <td>10</td>\n",
              "      <td>38.387409</td>\n",
              "      <td>0.561331</td>\n",
              "      <td>40</td>\n",
              "    </tr>\n",
              "    <tr>\n",
              "      <th>1</th>\n",
              "      <td>0</td>\n",
              "      <td>151</td>\n",
              "      <td>44</td>\n",
              "      <td>6</td>\n",
              "      <td>105</td>\n",
              "      <td>26.125923</td>\n",
              "      <td>0.463959</td>\n",
              "      <td>27</td>\n",
              "    </tr>\n",
              "    <tr>\n",
              "      <th>2</th>\n",
              "      <td>3</td>\n",
              "      <td>169</td>\n",
              "      <td>57</td>\n",
              "      <td>24</td>\n",
              "      <td>240</td>\n",
              "      <td>33.224573</td>\n",
              "      <td>0.541364</td>\n",
              "      <td>36</td>\n",
              "    </tr>\n",
              "    <tr>\n",
              "      <th>3</th>\n",
              "      <td>4</td>\n",
              "      <td>86</td>\n",
              "      <td>61</td>\n",
              "      <td>35</td>\n",
              "      <td>0</td>\n",
              "      <td>32.918264</td>\n",
              "      <td>0.526311</td>\n",
              "      <td>39</td>\n",
              "    </tr>\n",
              "    <tr>\n",
              "      <th>4</th>\n",
              "      <td>6</td>\n",
              "      <td>75</td>\n",
              "      <td>62</td>\n",
              "      <td>31</td>\n",
              "      <td>77</td>\n",
              "      <td>37.453830</td>\n",
              "      <td>0.178734</td>\n",
              "      <td>21</td>\n",
              "    </tr>\n",
              "  </tbody>\n",
              "</table>\n",
              "</div>\n",
              "    <div class=\"colab-df-buttons\">\n",
              "\n",
              "  <div class=\"colab-df-container\">\n",
              "    <button class=\"colab-df-convert\" onclick=\"convertToInteractive('df-53083d07-0398-4d36-8602-895656536c65')\"\n",
              "            title=\"Convert this dataframe to an interactive table.\"\n",
              "            style=\"display:none;\">\n",
              "\n",
              "  <svg xmlns=\"http://www.w3.org/2000/svg\" height=\"24px\" viewBox=\"0 -960 960 960\">\n",
              "    <path d=\"M120-120v-720h720v720H120Zm60-500h600v-160H180v160Zm220 220h160v-160H400v160Zm0 220h160v-160H400v160ZM180-400h160v-160H180v160Zm440 0h160v-160H620v160ZM180-180h160v-160H180v160Zm440 0h160v-160H620v160Z\"/>\n",
              "  </svg>\n",
              "    </button>\n",
              "\n",
              "  <style>\n",
              "    .colab-df-container {\n",
              "      display:flex;\n",
              "      gap: 12px;\n",
              "    }\n",
              "\n",
              "    .colab-df-convert {\n",
              "      background-color: #E8F0FE;\n",
              "      border: none;\n",
              "      border-radius: 50%;\n",
              "      cursor: pointer;\n",
              "      display: none;\n",
              "      fill: #1967D2;\n",
              "      height: 32px;\n",
              "      padding: 0 0 0 0;\n",
              "      width: 32px;\n",
              "    }\n",
              "\n",
              "    .colab-df-convert:hover {\n",
              "      background-color: #E2EBFA;\n",
              "      box-shadow: 0px 1px 2px rgba(60, 64, 67, 0.3), 0px 1px 3px 1px rgba(60, 64, 67, 0.15);\n",
              "      fill: #174EA6;\n",
              "    }\n",
              "\n",
              "    .colab-df-buttons div {\n",
              "      margin-bottom: 4px;\n",
              "    }\n",
              "\n",
              "    [theme=dark] .colab-df-convert {\n",
              "      background-color: #3B4455;\n",
              "      fill: #D2E3FC;\n",
              "    }\n",
              "\n",
              "    [theme=dark] .colab-df-convert:hover {\n",
              "      background-color: #434B5C;\n",
              "      box-shadow: 0px 1px 3px 1px rgba(0, 0, 0, 0.15);\n",
              "      filter: drop-shadow(0px 1px 2px rgba(0, 0, 0, 0.3));\n",
              "      fill: #FFFFFF;\n",
              "    }\n",
              "  </style>\n",
              "\n",
              "    <script>\n",
              "      const buttonEl =\n",
              "        document.querySelector('#df-53083d07-0398-4d36-8602-895656536c65 button.colab-df-convert');\n",
              "      buttonEl.style.display =\n",
              "        google.colab.kernel.accessAllowed ? 'block' : 'none';\n",
              "\n",
              "      async function convertToInteractive(key) {\n",
              "        const element = document.querySelector('#df-53083d07-0398-4d36-8602-895656536c65');\n",
              "        const dataTable =\n",
              "          await google.colab.kernel.invokeFunction('convertToInteractive',\n",
              "                                                    [key], {});\n",
              "        if (!dataTable) return;\n",
              "\n",
              "        const docLinkHtml = 'Like what you see? Visit the ' +\n",
              "          '<a target=\"_blank\" href=https://colab.research.google.com/notebooks/data_table.ipynb>data table notebook</a>'\n",
              "          + ' to learn more about interactive tables.';\n",
              "        element.innerHTML = '';\n",
              "        dataTable['output_type'] = 'display_data';\n",
              "        await google.colab.output.renderOutput(dataTable, element);\n",
              "        const docLink = document.createElement('div');\n",
              "        docLink.innerHTML = docLinkHtml;\n",
              "        element.appendChild(docLink);\n",
              "      }\n",
              "    </script>\n",
              "  </div>\n",
              "\n",
              "\n",
              "<div id=\"df-1e9b946e-6b72-4b3e-b3a5-fbb6e7ed5eab\">\n",
              "  <button class=\"colab-df-quickchart\" onclick=\"quickchart('df-1e9b946e-6b72-4b3e-b3a5-fbb6e7ed5eab')\"\n",
              "            title=\"Suggest charts.\"\n",
              "            style=\"display:none;\">\n",
              "\n",
              "<svg xmlns=\"http://www.w3.org/2000/svg\" height=\"24px\"viewBox=\"0 0 24 24\"\n",
              "     width=\"24px\">\n",
              "    <g>\n",
              "        <path d=\"M19 3H5c-1.1 0-2 .9-2 2v14c0 1.1.9 2 2 2h14c1.1 0 2-.9 2-2V5c0-1.1-.9-2-2-2zM9 17H7v-7h2v7zm4 0h-2V7h2v10zm4 0h-2v-4h2v4z\"/>\n",
              "    </g>\n",
              "</svg>\n",
              "  </button>\n",
              "\n",
              "<style>\n",
              "  .colab-df-quickchart {\n",
              "      --bg-color: #E8F0FE;\n",
              "      --fill-color: #1967D2;\n",
              "      --hover-bg-color: #E2EBFA;\n",
              "      --hover-fill-color: #174EA6;\n",
              "      --disabled-fill-color: #AAA;\n",
              "      --disabled-bg-color: #DDD;\n",
              "  }\n",
              "\n",
              "  [theme=dark] .colab-df-quickchart {\n",
              "      --bg-color: #3B4455;\n",
              "      --fill-color: #D2E3FC;\n",
              "      --hover-bg-color: #434B5C;\n",
              "      --hover-fill-color: #FFFFFF;\n",
              "      --disabled-bg-color: #3B4455;\n",
              "      --disabled-fill-color: #666;\n",
              "  }\n",
              "\n",
              "  .colab-df-quickchart {\n",
              "    background-color: var(--bg-color);\n",
              "    border: none;\n",
              "    border-radius: 50%;\n",
              "    cursor: pointer;\n",
              "    display: none;\n",
              "    fill: var(--fill-color);\n",
              "    height: 32px;\n",
              "    padding: 0;\n",
              "    width: 32px;\n",
              "  }\n",
              "\n",
              "  .colab-df-quickchart:hover {\n",
              "    background-color: var(--hover-bg-color);\n",
              "    box-shadow: 0 1px 2px rgba(60, 64, 67, 0.3), 0 1px 3px 1px rgba(60, 64, 67, 0.15);\n",
              "    fill: var(--button-hover-fill-color);\n",
              "  }\n",
              "\n",
              "  .colab-df-quickchart-complete:disabled,\n",
              "  .colab-df-quickchart-complete:disabled:hover {\n",
              "    background-color: var(--disabled-bg-color);\n",
              "    fill: var(--disabled-fill-color);\n",
              "    box-shadow: none;\n",
              "  }\n",
              "\n",
              "  .colab-df-spinner {\n",
              "    border: 2px solid var(--fill-color);\n",
              "    border-color: transparent;\n",
              "    border-bottom-color: var(--fill-color);\n",
              "    animation:\n",
              "      spin 1s steps(1) infinite;\n",
              "  }\n",
              "\n",
              "  @keyframes spin {\n",
              "    0% {\n",
              "      border-color: transparent;\n",
              "      border-bottom-color: var(--fill-color);\n",
              "      border-left-color: var(--fill-color);\n",
              "    }\n",
              "    20% {\n",
              "      border-color: transparent;\n",
              "      border-left-color: var(--fill-color);\n",
              "      border-top-color: var(--fill-color);\n",
              "    }\n",
              "    30% {\n",
              "      border-color: transparent;\n",
              "      border-left-color: var(--fill-color);\n",
              "      border-top-color: var(--fill-color);\n",
              "      border-right-color: var(--fill-color);\n",
              "    }\n",
              "    40% {\n",
              "      border-color: transparent;\n",
              "      border-right-color: var(--fill-color);\n",
              "      border-top-color: var(--fill-color);\n",
              "    }\n",
              "    60% {\n",
              "      border-color: transparent;\n",
              "      border-right-color: var(--fill-color);\n",
              "    }\n",
              "    80% {\n",
              "      border-color: transparent;\n",
              "      border-right-color: var(--fill-color);\n",
              "      border-bottom-color: var(--fill-color);\n",
              "    }\n",
              "    90% {\n",
              "      border-color: transparent;\n",
              "      border-bottom-color: var(--fill-color);\n",
              "    }\n",
              "  }\n",
              "</style>\n",
              "\n",
              "  <script>\n",
              "    async function quickchart(key) {\n",
              "      const quickchartButtonEl =\n",
              "        document.querySelector('#' + key + ' button');\n",
              "      quickchartButtonEl.disabled = true;  // To prevent multiple clicks.\n",
              "      quickchartButtonEl.classList.add('colab-df-spinner');\n",
              "      try {\n",
              "        const charts = await google.colab.kernel.invokeFunction(\n",
              "            'suggestCharts', [key], {});\n",
              "      } catch (error) {\n",
              "        console.error('Error during call to suggestCharts:', error);\n",
              "      }\n",
              "      quickchartButtonEl.classList.remove('colab-df-spinner');\n",
              "      quickchartButtonEl.classList.add('colab-df-quickchart-complete');\n",
              "    }\n",
              "    (() => {\n",
              "      let quickchartButtonEl =\n",
              "        document.querySelector('#df-1e9b946e-6b72-4b3e-b3a5-fbb6e7ed5eab button');\n",
              "      quickchartButtonEl.style.display =\n",
              "        google.colab.kernel.accessAllowed ? 'block' : 'none';\n",
              "    })();\n",
              "  </script>\n",
              "</div>\n",
              "    </div>\n",
              "  </div>\n"
            ]
          },
          "metadata": {},
          "execution_count": 5
        }
      ]
    },
    {
      "cell_type": "code",
      "source": [
        "#First 5 rows of target value\n",
        "Y_complete.head()"
      ],
      "metadata": {
        "colab": {
          "base_uri": "https://localhost:8080/",
          "height": 206
        },
        "id": "I-YMFqZCrOR3",
        "outputId": "32b7242d-868e-4728-cc02-1dd38da07fea"
      },
      "execution_count": null,
      "outputs": [
        {
          "output_type": "execute_result",
          "data": {
            "text/plain": [
              "   Outcome\n",
              "0        1\n",
              "1        1\n",
              "2        0\n",
              "3        0\n",
              "4        0"
            ],
            "text/html": [
              "\n",
              "  <div id=\"df-6fc7da45-0891-40d4-b095-851de8eb5e00\" class=\"colab-df-container\">\n",
              "    <div>\n",
              "<style scoped>\n",
              "    .dataframe tbody tr th:only-of-type {\n",
              "        vertical-align: middle;\n",
              "    }\n",
              "\n",
              "    .dataframe tbody tr th {\n",
              "        vertical-align: top;\n",
              "    }\n",
              "\n",
              "    .dataframe thead th {\n",
              "        text-align: right;\n",
              "    }\n",
              "</style>\n",
              "<table border=\"1\" class=\"dataframe\">\n",
              "  <thead>\n",
              "    <tr style=\"text-align: right;\">\n",
              "      <th></th>\n",
              "      <th>Outcome</th>\n",
              "    </tr>\n",
              "  </thead>\n",
              "  <tbody>\n",
              "    <tr>\n",
              "      <th>0</th>\n",
              "      <td>1</td>\n",
              "    </tr>\n",
              "    <tr>\n",
              "      <th>1</th>\n",
              "      <td>1</td>\n",
              "    </tr>\n",
              "    <tr>\n",
              "      <th>2</th>\n",
              "      <td>0</td>\n",
              "    </tr>\n",
              "    <tr>\n",
              "      <th>3</th>\n",
              "      <td>0</td>\n",
              "    </tr>\n",
              "    <tr>\n",
              "      <th>4</th>\n",
              "      <td>0</td>\n",
              "    </tr>\n",
              "  </tbody>\n",
              "</table>\n",
              "</div>\n",
              "    <div class=\"colab-df-buttons\">\n",
              "\n",
              "  <div class=\"colab-df-container\">\n",
              "    <button class=\"colab-df-convert\" onclick=\"convertToInteractive('df-6fc7da45-0891-40d4-b095-851de8eb5e00')\"\n",
              "            title=\"Convert this dataframe to an interactive table.\"\n",
              "            style=\"display:none;\">\n",
              "\n",
              "  <svg xmlns=\"http://www.w3.org/2000/svg\" height=\"24px\" viewBox=\"0 -960 960 960\">\n",
              "    <path d=\"M120-120v-720h720v720H120Zm60-500h600v-160H180v160Zm220 220h160v-160H400v160Zm0 220h160v-160H400v160ZM180-400h160v-160H180v160Zm440 0h160v-160H620v160ZM180-180h160v-160H180v160Zm440 0h160v-160H620v160Z\"/>\n",
              "  </svg>\n",
              "    </button>\n",
              "\n",
              "  <style>\n",
              "    .colab-df-container {\n",
              "      display:flex;\n",
              "      gap: 12px;\n",
              "    }\n",
              "\n",
              "    .colab-df-convert {\n",
              "      background-color: #E8F0FE;\n",
              "      border: none;\n",
              "      border-radius: 50%;\n",
              "      cursor: pointer;\n",
              "      display: none;\n",
              "      fill: #1967D2;\n",
              "      height: 32px;\n",
              "      padding: 0 0 0 0;\n",
              "      width: 32px;\n",
              "    }\n",
              "\n",
              "    .colab-df-convert:hover {\n",
              "      background-color: #E2EBFA;\n",
              "      box-shadow: 0px 1px 2px rgba(60, 64, 67, 0.3), 0px 1px 3px 1px rgba(60, 64, 67, 0.15);\n",
              "      fill: #174EA6;\n",
              "    }\n",
              "\n",
              "    .colab-df-buttons div {\n",
              "      margin-bottom: 4px;\n",
              "    }\n",
              "\n",
              "    [theme=dark] .colab-df-convert {\n",
              "      background-color: #3B4455;\n",
              "      fill: #D2E3FC;\n",
              "    }\n",
              "\n",
              "    [theme=dark] .colab-df-convert:hover {\n",
              "      background-color: #434B5C;\n",
              "      box-shadow: 0px 1px 3px 1px rgba(0, 0, 0, 0.15);\n",
              "      filter: drop-shadow(0px 1px 2px rgba(0, 0, 0, 0.3));\n",
              "      fill: #FFFFFF;\n",
              "    }\n",
              "  </style>\n",
              "\n",
              "    <script>\n",
              "      const buttonEl =\n",
              "        document.querySelector('#df-6fc7da45-0891-40d4-b095-851de8eb5e00 button.colab-df-convert');\n",
              "      buttonEl.style.display =\n",
              "        google.colab.kernel.accessAllowed ? 'block' : 'none';\n",
              "\n",
              "      async function convertToInteractive(key) {\n",
              "        const element = document.querySelector('#df-6fc7da45-0891-40d4-b095-851de8eb5e00');\n",
              "        const dataTable =\n",
              "          await google.colab.kernel.invokeFunction('convertToInteractive',\n",
              "                                                    [key], {});\n",
              "        if (!dataTable) return;\n",
              "\n",
              "        const docLinkHtml = 'Like what you see? Visit the ' +\n",
              "          '<a target=\"_blank\" href=https://colab.research.google.com/notebooks/data_table.ipynb>data table notebook</a>'\n",
              "          + ' to learn more about interactive tables.';\n",
              "        element.innerHTML = '';\n",
              "        dataTable['output_type'] = 'display_data';\n",
              "        await google.colab.output.renderOutput(dataTable, element);\n",
              "        const docLink = document.createElement('div');\n",
              "        docLink.innerHTML = docLinkHtml;\n",
              "        element.appendChild(docLink);\n",
              "      }\n",
              "    </script>\n",
              "  </div>\n",
              "\n",
              "\n",
              "<div id=\"df-efe157b4-62f6-40a2-862a-86846552160e\">\n",
              "  <button class=\"colab-df-quickchart\" onclick=\"quickchart('df-efe157b4-62f6-40a2-862a-86846552160e')\"\n",
              "            title=\"Suggest charts.\"\n",
              "            style=\"display:none;\">\n",
              "\n",
              "<svg xmlns=\"http://www.w3.org/2000/svg\" height=\"24px\"viewBox=\"0 0 24 24\"\n",
              "     width=\"24px\">\n",
              "    <g>\n",
              "        <path d=\"M19 3H5c-1.1 0-2 .9-2 2v14c0 1.1.9 2 2 2h14c1.1 0 2-.9 2-2V5c0-1.1-.9-2-2-2zM9 17H7v-7h2v7zm4 0h-2V7h2v10zm4 0h-2v-4h2v4z\"/>\n",
              "    </g>\n",
              "</svg>\n",
              "  </button>\n",
              "\n",
              "<style>\n",
              "  .colab-df-quickchart {\n",
              "      --bg-color: #E8F0FE;\n",
              "      --fill-color: #1967D2;\n",
              "      --hover-bg-color: #E2EBFA;\n",
              "      --hover-fill-color: #174EA6;\n",
              "      --disabled-fill-color: #AAA;\n",
              "      --disabled-bg-color: #DDD;\n",
              "  }\n",
              "\n",
              "  [theme=dark] .colab-df-quickchart {\n",
              "      --bg-color: #3B4455;\n",
              "      --fill-color: #D2E3FC;\n",
              "      --hover-bg-color: #434B5C;\n",
              "      --hover-fill-color: #FFFFFF;\n",
              "      --disabled-bg-color: #3B4455;\n",
              "      --disabled-fill-color: #666;\n",
              "  }\n",
              "\n",
              "  .colab-df-quickchart {\n",
              "    background-color: var(--bg-color);\n",
              "    border: none;\n",
              "    border-radius: 50%;\n",
              "    cursor: pointer;\n",
              "    display: none;\n",
              "    fill: var(--fill-color);\n",
              "    height: 32px;\n",
              "    padding: 0;\n",
              "    width: 32px;\n",
              "  }\n",
              "\n",
              "  .colab-df-quickchart:hover {\n",
              "    background-color: var(--hover-bg-color);\n",
              "    box-shadow: 0 1px 2px rgba(60, 64, 67, 0.3), 0 1px 3px 1px rgba(60, 64, 67, 0.15);\n",
              "    fill: var(--button-hover-fill-color);\n",
              "  }\n",
              "\n",
              "  .colab-df-quickchart-complete:disabled,\n",
              "  .colab-df-quickchart-complete:disabled:hover {\n",
              "    background-color: var(--disabled-bg-color);\n",
              "    fill: var(--disabled-fill-color);\n",
              "    box-shadow: none;\n",
              "  }\n",
              "\n",
              "  .colab-df-spinner {\n",
              "    border: 2px solid var(--fill-color);\n",
              "    border-color: transparent;\n",
              "    border-bottom-color: var(--fill-color);\n",
              "    animation:\n",
              "      spin 1s steps(1) infinite;\n",
              "  }\n",
              "\n",
              "  @keyframes spin {\n",
              "    0% {\n",
              "      border-color: transparent;\n",
              "      border-bottom-color: var(--fill-color);\n",
              "      border-left-color: var(--fill-color);\n",
              "    }\n",
              "    20% {\n",
              "      border-color: transparent;\n",
              "      border-left-color: var(--fill-color);\n",
              "      border-top-color: var(--fill-color);\n",
              "    }\n",
              "    30% {\n",
              "      border-color: transparent;\n",
              "      border-left-color: var(--fill-color);\n",
              "      border-top-color: var(--fill-color);\n",
              "      border-right-color: var(--fill-color);\n",
              "    }\n",
              "    40% {\n",
              "      border-color: transparent;\n",
              "      border-right-color: var(--fill-color);\n",
              "      border-top-color: var(--fill-color);\n",
              "    }\n",
              "    60% {\n",
              "      border-color: transparent;\n",
              "      border-right-color: var(--fill-color);\n",
              "    }\n",
              "    80% {\n",
              "      border-color: transparent;\n",
              "      border-right-color: var(--fill-color);\n",
              "      border-bottom-color: var(--fill-color);\n",
              "    }\n",
              "    90% {\n",
              "      border-color: transparent;\n",
              "      border-bottom-color: var(--fill-color);\n",
              "    }\n",
              "  }\n",
              "</style>\n",
              "\n",
              "  <script>\n",
              "    async function quickchart(key) {\n",
              "      const quickchartButtonEl =\n",
              "        document.querySelector('#' + key + ' button');\n",
              "      quickchartButtonEl.disabled = true;  // To prevent multiple clicks.\n",
              "      quickchartButtonEl.classList.add('colab-df-spinner');\n",
              "      try {\n",
              "        const charts = await google.colab.kernel.invokeFunction(\n",
              "            'suggestCharts', [key], {});\n",
              "      } catch (error) {\n",
              "        console.error('Error during call to suggestCharts:', error);\n",
              "      }\n",
              "      quickchartButtonEl.classList.remove('colab-df-spinner');\n",
              "      quickchartButtonEl.classList.add('colab-df-quickchart-complete');\n",
              "    }\n",
              "    (() => {\n",
              "      let quickchartButtonEl =\n",
              "        document.querySelector('#df-efe157b4-62f6-40a2-862a-86846552160e button');\n",
              "      quickchartButtonEl.style.display =\n",
              "        google.colab.kernel.accessAllowed ? 'block' : 'none';\n",
              "    })();\n",
              "  </script>\n",
              "</div>\n",
              "    </div>\n",
              "  </div>\n"
            ]
          },
          "metadata": {},
          "execution_count": 6
        }
      ]
    },
    {
      "cell_type": "markdown",
      "source": [
        "## **_2.1 Exploring the Data_**\n",
        "\n",
        "### In this section, we'll be performing exploratory data analysis of the features of the given dataset:\n",
        "### 1. Plotting a correlation matrix to understand the relationship between the different features\n",
        "###2. Boxplots to understand the distribution of each feature and detect outliers\n",
        "###3. Histograms for each feature"
      ],
      "metadata": {
        "id": "gC7j-mazqRyH"
      }
    },
    {
      "cell_type": "markdown",
      "source": [
        "### ***_2.1.1 Correlation Matrix_***"
      ],
      "metadata": {
        "id": "860ZvYqFr_g3"
      }
    },
    {
      "cell_type": "markdown",
      "source": [
        "### Correlation matrix is a statistical technique that evaluates the relationship between any 2 features in the dataset. The correlation coefficient can range from -1 to +1, with positive numbers indicating higher correlation. As seen below, each feature has a correlation of 1 with itself, and varying degrees of correlation with other features."
      ],
      "metadata": {
        "id": "TexaITnnmPb9"
      }
    },
    {
      "cell_type": "code",
      "source": [
        "#PLOTTING THE CORRELATION MATRIX\n",
        "\n",
        "corrmat = X_complete.corr()\n",
        "\n",
        "plt.figure(figsize=(13, 6))\n",
        "sns.heatmap(corrmat, vmax = 1, annot = True, linewidths = .5)\n",
        "plt.xticks(rotation=30, horizontalalignment='right')\n",
        "plt.show()"
      ],
      "metadata": {
        "colab": {
          "base_uri": "https://localhost:8080/",
          "height": 616
        },
        "id": "iOPf6mH1qkSc",
        "outputId": "e96c1a3e-14e1-4853-ebc0-7ec75a007b93"
      },
      "execution_count": null,
      "outputs": [
        {
          "output_type": "display_data",
          "data": {
            "text/plain": [
              "<Figure size 1300x600 with 2 Axes>"
            ],
            "image/png": "[encoded data removed]"
          },
          "metadata": {}
        }
      ]
    },
    {
      "cell_type": "markdown",
      "source": [
        "### ***_2.1.2 Boxplot_***"
      ],
      "metadata": {
        "id": "7TjfCSgXsTUo"
      }
    },
    {
      "cell_type": "markdown",
      "source": [
        "### A Boxplot displays the 5 number summary of a set of data. It helps graphically represent the skewness and spread of data using their quartiles. The 5 quantities represented are minimum, first quartile, median, third quartile, fourth quartile, and maximum. Using boxplots, outliers in the data can be detected and removed. Here, in the graph, the Y axis has been scaled down but the spread of each feature is still visually apparent."
      ],
      "metadata": {
        "id": "F-vd_YBJmyIz"
      }
    },
    {
      "cell_type": "code",
      "source": [
        "#PLOTTING THE BOXPLOT FOR THE DATA\n",
        "\n",
        "fig, ax = plt.subplots(figsize=(15,10))\n",
        "sns.boxplot(data=X_complete, width= 0.5,ax=ax,  fliersize=3)\n",
        "plt.title(\"Boxplot For The Data Features\")\n",
        "plt.show()"
      ],
      "metadata": {
        "colab": {
          "base_uri": "https://localhost:8080/",
          "height": 853
        },
        "id": "qwt0Wb8DrMHw",
        "outputId": "5d62d9c6-a6f6-4e14-a7f9-45bb0272bc1a"
      },
      "execution_count": null,
      "outputs": [
        {
          "output_type": "display_data",
          "data": {
            "text/plain": [
              "<Figure size 1500x1000 with 1 Axes>"
            ],
            "image/png": "[encoded data removed]"
          },
          "metadata": {}
        }
      ]
    },
    {
      "cell_type": "markdown",
      "source": [
        "### ***_2.1.3 Histogram Plotting for each feature_***"
      ],
      "metadata": {
        "id": "woM8JiZbsecx"
      }
    },
    {
      "cell_type": "markdown",
      "source": [
        "### Histogram plotting offers another way to visualize data by defining quantized bins and then counting the number of data observations that fall within those bins. It is another way to visualize the spread and distribution of data."
      ],
      "metadata": {
        "id": "mEzgyhM6paTe"
      }
    },
    {
      "cell_type": "code",
      "source": [
        "m,n=X_complete.shape\n",
        "for i in range(n):\n",
        "    dummy=X_complete.iloc[:,i:i+1]\n",
        "    dummy=dummy.to_numpy()\n",
        "    plt.title(X_complete.columns[i])\n",
        "    plt.hist(dummy)\n",
        "    plt.show()"
      ],
      "metadata": {
        "colab": {
          "base_uri": "https://localhost:8080/",
          "height": 3497
        },
        "outputId": "fabb46cd-bf91-4881-98a9-c117b01f3bbc",
        "id": "-mI-REK0UnXu"
      },
      "execution_count": null,
      "outputs": [
        {
          "output_type": "display_data",
          "data": {
            "text/plain": [
              "<Figure size 640x480 with 1 Axes>"
            ],
            "image/png": "[encoded data removed]"
          },
          "metadata": {}
        },
        {
          "output_type": "display_data",
          "data": {
            "text/plain": [
              "<Figure size 640x480 with 1 Axes>"
            ],
            "image/png": "[encoded data removed]"
          },
          "metadata": {}
        },
        {
          "output_type": "display_data",
          "data": {
            "text/plain": [
              "<Figure size 640x480 with 1 Axes>"
            ],
            "image/png": "[encoded data removed]"
          },
          "metadata": {}
        },
        {
          "output_type": "display_data",
          "data": {
            "text/plain": [
              "<Figure size 640x480 with 1 Axes>"
            ],
            "image/png": "[encoded data removed]"
          },
          "metadata": {}
        },
        {
          "output_type": "display_data",
          "data": {
            "text/plain": [
              "<Figure size 640x480 with 1 Axes>"
            ],
            "image/png": "[encoded data removed]"
          },
          "metadata": {}
        },
        {
          "output_type": "display_data",
          "data": {
            "text/plain": [
              "<Figure size 640x480 with 1 Axes>"
            ],
            "image/png": "[encoded data removed]"
          },
          "metadata": {}
        },
        {
          "output_type": "display_data",
          "data": {
            "text/plain": [
              "<Figure size 640x480 with 1 Axes>"
            ],
            "image/png": "[encoded data removed]"
          },
          "metadata": {}
        },
        {
          "output_type": "display_data",
          "data": {
            "text/plain": [
              "<Figure size 640x480 with 1 Axes>"
            ],
            "image/png": "[encoded data removed]"
          },
          "metadata": {}
        }
      ]
    },
    {
      "cell_type": "markdown",
      "source": [
        "## ***_2.2 Handling Outliers_***\n",
        "\n",
        "### Outliers are those observations in dataset whose values deviate significantly from the rest of the data for that particular feature. They can have a huge impact on the performance of ML models. Therefore, they must be detected and removed. One way of identifying outliers, and the method we used, is to treat those observations which are more than 3 standard deviations away from the mean of that feature as outliers. These are then removed.\n"
      ],
      "metadata": {
        "id": "ysdceMAKsraq"
      }
    },
    {
      "cell_type": "code",
      "source": [
        "df=X_complete\n",
        "m,n=df.shape\n",
        "for col in df.columns:\n",
        "        mean = df[col].mean()\n",
        "        sd = df[col].std()\n",
        "        df = df[(df[col] <= mean+(3*sd))]\n",
        "print(X_complete.shape[0]-df.shape[0],\" Outliers removed\")"
      ],
      "metadata": {
        "colab": {
          "base_uri": "https://localhost:8080/"
        },
        "outputId": "3b6ccf9f-8f94-46a1-eac2-9de199d8ca7a",
        "id": "3GMOBinKUpuy"
      },
      "execution_count": null,
      "outputs": [
        {
          "output_type": "stream",
          "name": "stdout",
          "text": [
            "7  Outliers removed\n"
          ]
        }
      ]
    },
    {
      "cell_type": "markdown",
      "source": [
        "## **_2.3 Normalization_**\n",
        "\n",
        "### Normalization is a data pre-processing technique that scales feature values that have different scale. Otherwise, the effect of important features that have a smaller scale will be diluted simply because the less important features had larger values. Normalization scales all the features down to the same range so that the scale of a feature does not unduly affect its importance. The data can be normalized by subtracting the **mean** from each datapoint and dividing it by the **standard deviation**."
      ],
      "metadata": {
        "id": "QLB0anIcpfWZ"
      }
    },
    {
      "cell_type": "code",
      "source": [
        "def normalise(X):#normalisation function\n",
        "    m,n=X.shape\n",
        "    mean=np.zeros((n,1))\n",
        "    variance=np.zeros((n,1))\n",
        "    for i in range(m):\n",
        "        for j in range(n):\n",
        "            mean[j]+=X[i,j]\n",
        "    mean=mean/m\n",
        "\n",
        "    for i in range(m):\n",
        "        for j in range(n):\n",
        "            variance[j]+=(X[i,j]-mean[j])**2\n",
        "\n",
        "    variance=variance/m\n",
        "    sd=np.sqrt(variance)\n",
        "    for i in range(m):\n",
        "        for j in range(n):\n",
        "            X[i,j]=(X[i,j]-mean[j])/sd[j]\n",
        "    dummy=X\n",
        "    X=np.ones((m,1))#adding a column of ones to denote x0\n",
        "    X = np.concatenate((X, dummy), axis=1)\n",
        "    return X"
      ],
      "metadata": {
        "id": "1sMb1MJ2Glfw"
      },
      "execution_count": null,
      "outputs": []
    },
    {
      "cell_type": "markdown",
      "source": [
        "## ***_2.4 Splitting Dataset into Test and Training Sets_***"
      ],
      "metadata": {
        "id": "Jt2t80tvuLvp"
      }
    },
    {
      "cell_type": "markdown",
      "source": [
        "### The dataset is split into training and test sets at this point. The training set is the data on which the model will be trained. To judge the performance of the model, the test set data is fed to the model. We will be doing an 80-20 split of training to test data. To prevent overfitting of the models to the training data, you have to be careful about the number of epochs you train the model for."
      ],
      "metadata": {
        "id": "XHlr-dF5DAeA"
      }
    },
    {
      "cell_type": "code",
      "source": [
        "#Converting DataFrames to Numpy Arrays\n",
        "X_complete=X_complete.to_numpy()\n",
        "Y_complete=Y_complete.to_numpy()\n",
        "Y_complete= np.reshape(Y_complete, len(Y_complete))\n",
        "m,n = X_complete.shape\n",
        "#Splitting into training and test data\n",
        "train_rate=0.8\n",
        "m=math.ceil(train_rate*X_complete.shape[0])\n",
        "X_train=X_complete[:m, :]\n",
        "Y_train=Y_complete[:m]\n",
        "X_train=normalise(X_train)\n",
        "m=X_complete.shape[0]-m\n",
        "X_test=X_complete[-m:, :]\n",
        "Y_test=Y_complete[-m:]\n",
        "X_test=normalise(X_test)"
      ],
      "metadata": {
        "id": "7Jmi-2rBuKGo"
      },
      "execution_count": null,
      "outputs": []
    },
    {
      "cell_type": "markdown",
      "source": [
        "# ***3. Comparison of Stochastic Gradient Descent and Batch Gradient Descent using Linear Regression***\n",
        "\n",
        "## **_Stochastic Gradient Descent_**"
      ],
      "metadata": {
        "id": "y81SQxOrRso5"
      }
    },
    {
      "cell_type": "markdown",
      "source": [
        "Stochastic Gradient Descent (SGD) is a fundamental optimization algorithm widely used in machine learning and deep learning. It's designed to efficiently find the optimal parameters of a model by iteratively updating them based on the gradients of a loss function with respect to the data.\n",
        "Unlike traditional gradient descent, which computes gradients using the entire dataset (batch gradient descent), SGD operates on a randomly selected subset of the data for each iteration. This randomness introduces noise into the gradient estimation, which can help the algorithm escape local minima and explore the parameter space more efficiently.\n",
        "\n",
        "Here's how SGD works in a nutshell:\n",
        "\n",
        "1. **Initialization:** Start with an initial set of parameters for the model.\n",
        "\n",
        "2. **Iterative Update:** For each iteration:\n",
        "   - Randomly select a mini-batch (subset) of training data.\n",
        "   - Compute the gradient of the loss function with respect to the mini-batch.\n",
        "   - Update the model parameters by taking a small step in the direction of the negative gradient.\n",
        "\n",
        "3. **Convergence:** Repeat the iterative updates for a fixed number of epochs or until a convergence criterion is met (e.g., the loss stops decreasing significantly)."
      ],
      "metadata": {
        "id": "q1O5PAExiVzK"
      }
    },
    {
      "cell_type": "code",
      "source": [
        "# Function to calculate partial_derivative with respect to the weight vector (m_est)\n",
        "def partial_derivative(X_example, Y_example, m_est):\n",
        "\n",
        "    Y_pred = np.dot(X_example , m_est)\n",
        "\n",
        "    diff = (Y_example - Y_pred)\n",
        "    df_dm = diff * X_example\n",
        "\n",
        "    return df_dm"
      ],
      "metadata": {
        "id": "OQ8CVHsER-Mh"
      },
      "execution_count": null,
      "outputs": []
    },
    {
      "cell_type": "code",
      "source": [
        "# Function to calculate Mean Square Error Function\n",
        "def mse(X,Y,m_est):\n",
        "\n",
        "    Y_pred = np.dot(X, m_est)\n",
        "    diff = (Y_pred - Y)\n",
        "    mse = np.sum((diff**2), axis = 0) / (2*len(X))\n",
        "\n",
        "    return mse"
      ],
      "metadata": {
        "id": "CPNRXWEviTPv"
      },
      "execution_count": null,
      "outputs": []
    },
    {
      "cell_type": "code",
      "source": [
        "# Function for training the model\n",
        "def sgd_training(X,Y,lr,epochs):\n",
        "    global stochastic_cost\n",
        "    for epoch in range(epochs): # This defines the iteration for epochs\n",
        "        if epoch == 0:\n",
        "            m_est = np.zeros((X.shape[1]))\n",
        "\n",
        "        indices = np.arange(X.shape[0])\n",
        "        np.random.shuffle(indices)\n",
        "\n",
        "\n",
        "        X = X[indices]\n",
        "        Y = Y[indices]\n",
        "\n",
        "\n",
        "        for i in range(len(X)): # This defines the iteration over the training set\n",
        "\n",
        "            X_example = X[i]\n",
        "            Y_example = Y[i]\n",
        "\n",
        "            deriv = partial_derivative(X_example, Y_example, m_est)\n",
        "\n",
        "            m_est = m_est + (lr * deriv)\n",
        "\n",
        "        stochastic_cost.append(mse(X,Y,m_est))\n",
        "\n",
        "    return m_est"
      ],
      "metadata": {
        "id": "DsgxofZfibP3"
      },
      "execution_count": null,
      "outputs": []
    },
    {
      "cell_type": "code",
      "source": [
        "# Declaring the model training hyperparameters\n",
        "lr = 0.00001\n",
        "epochs = 1000\n",
        "\n",
        "# Storing the cost over iterations in a list for plotting\n",
        "global stochastic_cost\n",
        "stochastic_cost = []\n",
        "\n",
        "#Training the model and getting final weight vectors\n",
        "m_est = sgd_training(X_train, Y_train,lr, epochs)\n",
        "print(m_est)\n",
        "\n",
        "# Checking on test set\n",
        "Y_pred = np.dot(X_test, m_est)\n",
        "mscost = mse(X_test, Y_test, m_est)"
      ],
      "metadata": {
        "colab": {
          "base_uri": "https://localhost:8080/"
        },
        "id": "RneRCDIsizIj",
        "outputId": "df60acc7-d7ea-43d4-b20c-3cbfa870c4ee"
      },
      "execution_count": null,
      "outputs": [
        {
          "output_type": "stream",
          "name": "stdout",
          "text": [
            "[ 0.34113635  0.06228838  0.17385864 -0.03762866  0.03329233 -0.01699107\n",
            "  0.08051656  0.01332275 -0.00104444]\n"
          ]
        }
      ]
    },
    {
      "cell_type": "code",
      "source": [
        "#Printing the final cost\n",
        "mscost"
      ],
      "metadata": {
        "colab": {
          "base_uri": "https://localhost:8080/"
        },
        "id": "Zia5aWH2A_rP",
        "outputId": "725aec87-70b0-4bdd-93cd-26b82a84594b"
      },
      "execution_count": null,
      "outputs": [
        {
          "output_type": "execute_result",
          "data": {
            "text/plain": [
              "0.08223878514962106"
            ]
          },
          "metadata": {},
          "execution_count": 17
        }
      ]
    },
    {
      "cell_type": "code",
      "source": [
        "#Attempting to predict accuracy on training set\n",
        "\n",
        "accuracy = 0\n",
        "m,n = X_test.shape\n",
        "for i in range(m):\n",
        "  temp = Y_pred[i]\n",
        "  if temp<0.5:\n",
        "        temp=0\n",
        "  else:\n",
        "      temp=1\n",
        "  if temp==Y_test[i]:\n",
        "      accuracy+=1\n",
        "print(\"Accuracy: \", (accuracy/m)*100, \"%\")"
      ],
      "metadata": {
        "colab": {
          "base_uri": "https://localhost:8080/"
        },
        "id": "NUhFu-tJk4oU",
        "outputId": "2dfb69cb-2a82-4c2a-f7dd-72fde9f236ab"
      },
      "execution_count": null,
      "outputs": [
        {
          "output_type": "stream",
          "name": "stdout",
          "text": [
            "Accuracy:  73.0 %\n"
          ]
        }
      ]
    },
    {
      "cell_type": "markdown",
      "source": [
        "## **_Batch Gradient Descent_**"
      ],
      "metadata": {
        "id": "HqIC34nWR-n7"
      }
    },
    {
      "cell_type": "markdown",
      "source": [
        "#Batch Gradient Descent\n",
        "\n",
        "Batch Gradient Descent is an optimization algorithm used for training machine learning models, particularly in the context of linear regression and neural networks.\n",
        "\n",
        "## Explanation\n",
        "\n",
        "- **Objective**: Batch Gradient Descent is used to minimize a cost or loss function by iteratively adjusting the model parameters.\n",
        "\n",
        "- **Batch Processing**: It processes the entire training dataset in each iteration.\n",
        "\n",
        "- **Steps**:\n",
        "  1. Initialize model parameters randomly or with predefined values.\n",
        "  2. Calculate the gradient of the cost function with respect to each parameter using the entire dataset (hence \"batch\").\n",
        "  3. Update the model parameters by taking a step in the direction of the negative gradient to minimize the cost.\n",
        "  4. Repeat steps 2 and 3 until convergence or for a fixed number of iterations.\n",
        "\n",
        "- **Advantages**:\n",
        "  - Stable and converges to a global minimum with convex cost functions.\n",
        "  - Guaranteed convergence with a sufficiently small learning rate.\n",
        "  \n",
        "- **Challenges**:\n",
        "  - Computationally intensive for large datasets.\n",
        "  - May converge to a local minimum for non-convex cost functions.\n",
        "\n",
        "- **Learning Rate**: The learning rate (α) controls the step size in each iteration. It needs to be carefully chosen to ensure convergence without overshooting the minimum.\n",
        "\n",
        "- **Convergence**: Batch Gradient Descent typically converges to a minimum of the cost function but may be slow for large datasets.\n",
        "\n",
        "Batch Gradient Descent is a foundational optimization technique used to train various machine learning models, ensuring that they learn the optimal parameters for making accurate predictions."
      ],
      "metadata": {
        "id": "l8VGfBdo0YGF"
      }
    },
    {
      "cell_type": "code",
      "source": [
        "def cost_function(X,Y,w):#defining cost\n",
        "    m=X.shape[0]\n",
        "    total_cost=0\n",
        "    for i in range (m):\n",
        "        total_cost+=(np.dot(X[i],w)-Y[i])**2\n",
        "    return total_cost/(2*m)\n"
      ],
      "metadata": {
        "id": "uil02U3iGzi_"
      },
      "execution_count": null,
      "outputs": []
    },
    {
      "cell_type": "code",
      "source": [
        "def gradient(X,Y,w):#defining the gradient\n",
        "    m,n=X.shape\n",
        "    dj_dw=np.zeros((n,1))\n",
        "    for i in range (m):\n",
        "        temp=np.dot(X[i],w)-Y[i]\n",
        "        for j in range(n):\n",
        "          dj_dw[j]+=temp*X[i,j]\n",
        "    return dj_dw/m\n"
      ],
      "metadata": {
        "id": "YBoEinZLODQH"
      },
      "execution_count": null,
      "outputs": []
    },
    {
      "cell_type": "code",
      "source": [
        "def batch_gradient_descent(X,Y,w,a,iterations):#defining the gradient descent\n",
        "    m,n=X.shape\n",
        "    global batch_gradient_cost\n",
        "\n",
        "    for i in range (iterations):\n",
        "        dj_dw=gradient(X,Y,w)#calculating gradient\n",
        "        for j in range(n):\n",
        "            w[j]-=a*dj_dw[j]#updating the weights\n",
        "        batch_gradient_cost.append(cost_function(X,Y,w))#adding the costs to a list so that we can see the pattern\n",
        "    return w\n"
      ],
      "metadata": {
        "id": "VtIjtYVMSApV"
      },
      "execution_count": null,
      "outputs": []
    },
    {
      "cell_type": "code",
      "source": [
        "global batch_gradient_cost\n",
        "batch_gradient_cost = []\n",
        "w=np.zeros((9,1))\n",
        "a=0.06\n",
        "iterations=1000\n",
        "print(batch_gradient_descent(X_train,Y_train,w,a,iterations))"
      ],
      "metadata": {
        "colab": {
          "base_uri": "https://localhost:8080/"
        },
        "id": "6RFpX9ysIKtO",
        "outputId": "68037220-71bf-4a27-a351-26c70bcd6a83"
      },
      "execution_count": null,
      "outputs": [
        {
          "output_type": "stream",
          "name": "stdout",
          "text": [
            "[[ 0.3475    ]\n",
            " [ 0.07483715]\n",
            " [ 0.1913754 ]\n",
            " [-0.03944641]\n",
            " [ 0.04388457]\n",
            " [-0.03307973]\n",
            " [ 0.07817399]\n",
            " [ 0.0104576 ]\n",
            " [-0.01613101]]\n"
          ]
        }
      ]
    },
    {
      "cell_type": "code",
      "source": [
        "correct=0;\n",
        "m,n=X_test.shape\n",
        "for i in range (m):\n",
        "    temp=np.dot(X_test[i],w)\n",
        "    if temp<0.5:\n",
        "        temp=0\n",
        "    else:\n",
        "        temp=1\n",
        "    if temp==Y_test[i]:\n",
        "        correct+=1\n",
        "print(\"Accuracy: \", (correct/m)*100, \"%\")"
      ],
      "metadata": {
        "id": "H7TMiOuFVzRU",
        "colab": {
          "base_uri": "https://localhost:8080/"
        },
        "outputId": "6a3948c1-7cac-4c74-a3b4-ec53bd019edc"
      },
      "execution_count": null,
      "outputs": [
        {
          "output_type": "stream",
          "name": "stdout",
          "text": [
            "Accuracy:  74.0 %\n"
          ]
        }
      ]
    },
    {
      "cell_type": "markdown",
      "source": [
        "## **_Insights Drawn_**"
      ],
      "metadata": {
        "id": "8g7NxS5sSCRv"
      }
    },
    {
      "cell_type": "markdown",
      "source": [
        "### Batch Gradient Descent and Stochastic Gradient Descent are both two different gradient descent techniques used for linear regression. Batch gradient descent requires more computation because it processes the entire dataset at once. However, it is more accurate and scales better as number of functions increase. Stochastic gradient descent converges faster, but has a tendency to jump around a lot. However, its is computationally more efficient and takes less time to converge.\n",
        "\n",
        "### As we can see, both SGD and BGD give roughly the same final cost (this might be due to the fact that number of samples is very less). The graph also does not take into consideration the time taken for SGD to converge, which is less than BGD. In general, linear regression is a very poor method for classification."
      ],
      "metadata": {
        "id": "3wI4OzmrDPJ3"
      }
    },
    {
      "cell_type": "code",
      "source": [
        "#Plotting \"Cost vs Epochs\" for Stochastic Gradient Descent\n",
        "plt.plot(stochastic_cost)\n",
        "plt.ylabel(\"Mean Squared Error Cost\")\n",
        "plt.xlabel(\"Epochs\")\n",
        "plt.title(\"Cost vs Epochs for Stochastic Gradient Descent\")\n",
        "plt.show()"
      ],
      "metadata": {
        "id": "Pw63z3amSSo_",
        "colab": {
          "base_uri": "https://localhost:8080/",
          "height": 472
        },
        "outputId": "bbd9e225-ff55-4355-824b-c25b04badc7b"
      },
      "execution_count": null,
      "outputs": [
        {
          "output_type": "display_data",
          "data": {
            "text/plain": [
              "<Figure size 640x480 with 1 Axes>"
            ],
            "image/png": "[encoded data removed]"
          },
          "metadata": {}
        }
      ]
    },
    {
      "cell_type": "code",
      "source": [
        "#Plotting \"Cost vs Epochs\" for Batch Gradient Descent\n",
        "plt.plot(batch_gradient_cost)\n",
        "plt.ylabel(\"Cost\")\n",
        "plt.xlabel(\"Epochs\")\n",
        "plt.title(\"Cost vs Epochs for Batch Gradient Descent\")\n",
        "plt.show()"
      ],
      "metadata": {
        "id": "u3vWfiBRIHuN",
        "colab": {
          "base_uri": "https://localhost:8080/",
          "height": 472
        },
        "outputId": "da47a4f1-40a4-4a66-dbfb-0ec9341cf923"
      },
      "execution_count": null,
      "outputs": [
        {
          "output_type": "display_data",
          "data": {
            "text/plain": [
              "<Figure size 640x480 with 1 Axes>"
            ],
            "image/png": "[encoded data removed]"
          },
          "metadata": {}
        }
      ]
    },
    {
      "cell_type": "markdown",
      "source": [
        "# **_4. Comparison of Lasso and Ridge Regression using Polynomial Regression_**\n",
        "\n",
        "## **_Lasso Regression_**"
      ],
      "metadata": {
        "id": "2p-mPVFCSe9V"
      }
    },
    {
      "cell_type": "markdown",
      "source": [
        "# Key difference:\n",
        "\n",
        " The key difference is in how the two regressions penalize the coefficients. Lasso can lead to feature selection by making some coefficients exactly zero, while Ridge generally shrinks all coefficients towards zero without eliminating any completely. This difference makes them suitable for different scenarios and feature engineering needs.\n",
        "\n",
        "\n",
        "# LASSO REGRESSION : An Introduction\n",
        "\n",
        "Lasso regression is used for both regression and feature selection. It's especially useful when dealing with high-dimensional data with potentially irrelevant features.\n",
        "\n",
        "The purpose of Lasso is to prevent overfitting by imposing a constraint on the sum of the absolute values of the coefficients (weights).\n",
        "\n",
        "# Why use Lasso?\n",
        "Lasso helps in preventing overfitting, especially when dealing with datasets\n",
        "that have a large number of features compared to the number of samples. By reducing the impact of less important features, Lasso can create a better model that is less likely to overfit the training data.\n",
        "\n",
        "Lasso can help identify the most important predictors in a model.\n",
        "\n",
        "\n",
        "# Regularization : A Solution\n",
        "Lasso provides a form of regularization. It adds a penalty term to the linear regression cost function, which discourages overly large coefficients. This can lead to more stable and better-behaved models, especially when multicollinearity (high correlation between features) is present.\n",
        "\n",
        "#Lasso Regularization (L1 norm)\n",
        "L1 Regularization Term: This term adds a penalty to the loss based on the absolute values of the regression coefficients (weights). It encourages some of the coefficients to become exactly zero, effectively performing feature selection. The amount of regularization is controlled by a hyperparameter, often denoted as λ (lambda).\n",
        "\n",
        "It is effective when there are many features, and you suspect that only a subset of them is relevant to the prediction task.\n",
        "\n",
        "\n"
      ],
      "metadata": {
        "id": "MbN2E4RQ6PJt"
      }
    },
    {
      "cell_type": "code",
      "source": [
        "degree=2\n",
        "features=len(X_complete[0])\n",
        "rows=len(X_complete)\n",
        "Rlrate=0.1\n",
        "Rlambda= 1 # the lambda is a hyperparameter representing the strength of the regularization\n",
        "epochs=1000 # the number of times the model will run\n",
        "global lasso_cost\n",
        "lasso_cost = []"
      ],
      "metadata": {
        "id": "LTjoKWdNSpcE"
      },
      "execution_count": null,
      "outputs": []
    },
    {
      "cell_type": "code",
      "source": [
        "n_poly=(np.math.factorial(degree+features))/(features*np.math.factorial(degree)) # finding the number of variables in the multivariate expression\n",
        "def create_polynomial_features(X_train, degree):\n",
        "    m, n = X_train.shape\n",
        "    X_poly = np.ones((m, 1))\n",
        "    for d in range(1, degree + 1): # this loop will generate a polynomial expression for the fetaures present\n",
        "        for i in range(n):\n",
        "            X_poly = np.column_stack((X_poly, X_train[:, i]**d))\n",
        "\n",
        "    return X_poly\n"
      ],
      "metadata": {
        "id": "SOpQkRk3NuFJ"
      },
      "execution_count": null,
      "outputs": []
    },
    {
      "cell_type": "code",
      "source": [
        "X_completecopy = X_complete\n",
        "Y_completecopy= Y_complete\n",
        "X_poly_complete = create_polynomial_features(X_completecopy, degree) # it will create the polynomials for the entire dataset\n",
        "train_rate=0.8\n",
        "m=math.ceil(train_rate*X_poly_complete.shape[0])\n",
        "X_ptrain=X_poly_complete[:m, :] # taking the first 'm' samples of the training set\n",
        "m=X_poly_complete.shape[0]-m\n",
        "X_ptest=X_poly_complete[-m:, :]"
      ],
      "metadata": {
        "id": "IYiLfGiNNuFL"
      },
      "execution_count": null,
      "outputs": []
    },
    {
      "cell_type": "code",
      "source": [
        "def lasso_cost_function(X,Y,w):\n",
        "    m,n=X.shape\n",
        "    total_cost=0\n",
        "    for i in range (m):\n",
        "        total_cost+=(np.dot(X[i],w)-Y[i])**2 # calculation of ordianry least squared part(OLS)\n",
        "    for j in range(n) :\n",
        "        total_cost+=(Rlambda*(w[j])) # calculating the cost function for lasso regression\n",
        "    return total_cost/(2*m)"
      ],
      "metadata": {
        "id": "8ZUciZbSNuFM"
      },
      "execution_count": null,
      "outputs": []
    },
    {
      "cell_type": "code",
      "source": [
        "def lasso_gradient(X,Y,w):\n",
        "    m,n=X.shape\n",
        "    dj_dw=np.zeros((n,1))\n",
        "    for i in range (m):\n",
        "        temp=np.dot(X[i],w)-Y[i]\n",
        "        for j in range(n): # updating gradients for each feature\n",
        "          dj_dw[j]+=(temp*X[i,j] + (Rlambda)/2)/m\n",
        "    return dj_dw # returning the gradient vector"
      ],
      "metadata": {
        "id": "eZMS82hnNuFN"
      },
      "execution_count": null,
      "outputs": []
    },
    {
      "cell_type": "code",
      "source": [
        "def lasso_gradient_descent(X,Y,w,a,iterations):\n",
        "    m,n=X.shape\n",
        "    for i in range (iterations):\n",
        "        dj_dw=lasso_gradient(X,Y,w)\n",
        "        for j in range(n): # updating model weights for each feature\n",
        "            w[j]-=a*dj_dw[j]\n",
        "        if i%math.ceil(iterations / 10) == 0:\n",
        "          print(i, lasso_cost_function(X, Y,w))\n",
        "        lasso_cost.append(lasso_cost_function(X,Y,w))\n",
        "    return w"
      ],
      "metadata": {
        "id": "PAefSNICNuFN"
      },
      "execution_count": null,
      "outputs": []
    },
    {
      "cell_type": "code",
      "source": [
        "m,n = X_ptrain.shape\n",
        "w=np.zeros((n,1))\n",
        "a=0.00006 # this parameter is the learning rate for the gradient descent\n",
        "print(lasso_gradient_descent(X_ptrain,Y_train,w,a,epochs)) # displaying the coefficients after training"
      ],
      "metadata": {
        "colab": {
          "base_uri": "https://localhost:8080/"
        },
        "outputId": "4072610a-69f8-4921-e4e5-f759881fbd8b",
        "id": "9TQLp7vVNuFO"
      },
      "execution_count": null,
      "outputs": [
        {
          "output_type": "stream",
          "name": "stdout",
          "text": [
            "0 [0.1737889]\n",
            "100 [0.177658]\n",
            "200 [0.18148174]\n",
            "300 [0.18525649]\n",
            "400 [0.18897978]\n",
            "500 [0.19265014]\n",
            "600 [0.1962669]\n",
            "700 [0.19983005]\n",
            "800 [0.20334009]\n",
            "900 [0.20679798]\n",
            "[[-0.00755013]\n",
            " [-0.02491078]\n",
            " [-0.01698369]\n",
            " [-0.02705104]\n",
            " [-0.02532855]\n",
            " [-0.02450562]\n",
            " [-0.02139172]\n",
            " [-0.02637276]\n",
            " [-0.02477788]\n",
            " [-0.00358635]\n",
            " [-0.00792674]\n",
            " [-0.00443335]\n",
            " [-0.00467369]\n",
            " [-0.00204723]\n",
            " [-0.00375168]\n",
            " [-0.00789034]\n",
            " [-0.00530945]]\n"
          ]
        }
      ]
    },
    {
      "cell_type": "code",
      "source": [
        "correct=0; # counter to keep track of the correct predictions\n",
        "m,n=X_ptest.shape\n",
        "for i in range (m):\n",
        "    temp=np.dot(X_ptest[i],w)\n",
        "    if temp<0.5:\n",
        "        temp=0\n",
        "    else:\n",
        "        temp=1\n",
        "    if temp==Y_test[i]:\n",
        "        correct+=1 # updating the correct predictions\n",
        "print(\"Accuracy: \", (correct/m)*100, \"%\") # displaying the accuracy"
      ],
      "metadata": {
        "colab": {
          "base_uri": "https://localhost:8080/"
        },
        "outputId": "36998cdc-e162-402f-9ecf-9cc9cc994747",
        "id": "SZvMXxmVNuFQ"
      },
      "execution_count": null,
      "outputs": [
        {
          "output_type": "stream",
          "name": "stdout",
          "text": [
            "Accuracy:  74.0 %\n"
          ]
        }
      ]
    },
    {
      "cell_type": "markdown",
      "source": [
        "## **_Ridge Regression_**"
      ],
      "metadata": {
        "id": "Dr-p_RtzSqUF"
      }
    },
    {
      "cell_type": "markdown",
      "source": [
        "# RIDGE REGRESSION : An Introduction\n",
        "Traditional linear regression models are susceptible to overfitting, especially when dealing with high-dimensional datasets. The phenomenon of Overfitting occurs when a model ends up capturing noise , randomfluctations in data or outliers , instead of actually capturing the underlying data . As a result\n",
        " the data will be accutrate to the training set but inaccurate to the test set . This means that the data has a high variance .\n",
        "\n",
        " High Variance means that the model is highly sensitive to changes in the training set and would thereby fail to accurately predict unseen data there after .\n",
        "\n",
        " # Multicollinearity : A Problem\n",
        "\n",
        " Another issue when dealing with traditional regression techniques , is Multicollinearity . As such , Multicollinearity referes to when two or more predictors are strongly related to one another . As a result the model fails to make predictions accurately as it cannot tell which predictor impacts the outcome in which way . In other words , the effect of individual predictors cannot be clearly seperated . This is because small changes in the data can lead to significant changes in the estimated coefficients of the model. These coefficients can have large standard errors, making them statistically unreliable.\n",
        "\n",
        "\n",
        "# Regularization : A Solution\n",
        "Regularization is a technique used to prevent overfitting and improve the generalization performance of a model. It involves adding a penalty term to the model's objective function that discourages the model from fitting the training data too closely or from having excessively large parameter values. Regularization helps strike a balance between fitting the data well and avoiding complex, overfit models, ultimately leading to better predictive performance on unseen data.\n",
        "\n",
        "#Ridge Regularization (L2 norm)\n",
        "Ridge regression is a regularization technique used in linear regression to address multicollinearity and improve the stability of the regression model. It does this by adding a penalty term to the linear regression objective function. This penalty term is proportional to the square of the magnitude of the coefficient values (L2 regularization).\n",
        "\n",
        "It helps in solving the issue of Multicollinearity by shrinking the coefficients.Ridge regression enables the model to scale back the magnitude of coefficient estimates for all variable , not just for correlated variables. By doing this, it stops a single variable from taking control of the model. Ridge regression has a tendency to more equally spread the effects of correlated variables when there is multicollinearity, which makes the model less sensitive to minute changes in the data.\n",
        "\n",
        "Similarly , to solve the issue of Overfitting , we introduce a paramter Lambda , also known as a tuning parameter . As you increase this parameter, the ridge penalty becomes more significant, and the coefficients are pushed closer to zero. This helps strike a balance between bias and variance. The model becomes more biased (closer to a simple linear regression model) but less prone to overfitting and multicollinearity.This takes care of the Biance - Variance trade off .\n",
        "\n",
        "\n"
      ],
      "metadata": {
        "id": "2eyMxHdx0iEx"
      }
    },
    {
      "cell_type": "code",
      "source": [
        "degree=3\n",
        "features=len(X_complete[0])\n",
        "rows=len(X_complete)\n",
        "Rlambda=3#lambda is our hyperparamter which determines the stregth of the regularization\n",
        "epochs=1000 #the number of times we run the model overall\n",
        "global ridge_cost\n",
        "ridge_cost = []"
      ],
      "metadata": {
        "id": "aWqMiCzVSuAD"
      },
      "execution_count": null,
      "outputs": []
    },
    {
      "cell_type": "code",
      "source": [
        "n_poly=(np.math.factorial(degree+features))/(features*np.math.factorial(degree))#finding number of variables in the mutivariate expression(as we have 8 features)\n",
        "def create_polynomial_features(X_train, degree):\n",
        "    m, n = X_train.shape\n",
        "    X_poly = np.ones((m, 1))\n",
        "    for d in range(1, degree + 1):\n",
        "        for i in range(n):\n",
        "            X_poly = np.column_stack((X_poly, X_train[:, i]**d))\n",
        "\n",
        "    return X_poly\n"
      ],
      "metadata": {
        "id": "uJAZo2CvMX3a"
      },
      "execution_count": null,
      "outputs": []
    },
    {
      "cell_type": "code",
      "source": [
        "X_poly_complete = create_polynomial_features(X_completecopy, degree)\n",
        "m=400\n",
        "X_ptrain=X_poly_complete[:m, :]\n",
        "m=100\n",
        "X_ptest=X_poly_complete[-m:, :]"
      ],
      "metadata": {
        "id": "MtwwZ0w8Q4vR"
      },
      "execution_count": null,
      "outputs": []
    },
    {
      "cell_type": "code",
      "source": [
        "def cost_function(X,Y,w):\n",
        "    m,n=X.shape\n",
        "    total_cost=0\n",
        "    for i in range (m):\n",
        "        total_cost+=(np.dot(X[i],w)-Y[i])**2 #multiplying the feature matrix with weight vector , then subtracting the actual value\n",
        "    for j in range(n) :\n",
        "        total_cost+=(Rlambda*(w[j]**2))/(2*m) # here we add the penalty term to the cost function\n",
        "    return total_cost/2"
      ],
      "metadata": {
        "id": "1Vx8_yCacuPh"
      },
      "execution_count": null,
      "outputs": []
    },
    {
      "cell_type": "code",
      "source": [
        "def gradient(X,Y,w):\n",
        "    m,n=X.shape\n",
        "    dj_dw=np.zeros((n,1))\n",
        "    for i in range (m):\n",
        "        temp=np.dot(X[i],w)-Y[i]\n",
        "        for j in range(n):\n",
        "          dj_dw[j]+=(temp*X[i,j] + Rlambda*w[j,0])/m # here we find the derivative of the cost function with respective to the weight\n",
        "    return dj_dw"
      ],
      "metadata": {
        "id": "oaHyNyoBbGfy"
      },
      "execution_count": null,
      "outputs": []
    },
    {
      "cell_type": "code",
      "source": [
        "def gradient_descent(X,Y,w,a,iterations):\n",
        "    m,n=X.shape\n",
        "    for i in range (iterations):\n",
        "        dj_dw=gradient(X,Y,w)\n",
        "        for j in range(n):\n",
        "            w[j]-=a*dj_dw[j] #we update the weight matric for every run of the epoch\n",
        "        ridge_cost.append(cost_function(X,Y,w)) #we make a list to hold the cost at every epoch to make a graph\n",
        "\n",
        "    return w"
      ],
      "metadata": {
        "id": "1K5BIQutUi_n"
      },
      "execution_count": null,
      "outputs": []
    },
    {
      "cell_type": "code",
      "source": [
        "m,n = X_ptrain.shape\n",
        "w=np.zeros((n,1))\n",
        "a=0.006\n",
        "print(gradient_descent(X_ptrain,Y_train,w,a,epochs))"
      ],
      "metadata": {
        "colab": {
          "base_uri": "https://localhost:8080/"
        },
        "id": "6Lo7AIO6dxms",
        "outputId": "714e597c-8ee6-4513-f93d-f51b3ed7ebe9"
      },
      "execution_count": null,
      "outputs": [
        {
          "output_type": "stream",
          "name": "stdout",
          "text": [
            "[[ 0.03582147]\n",
            " [ 0.01035308]\n",
            " [ 0.02745737]\n",
            " [-0.00235237]\n",
            " [ 0.00429877]\n",
            " [-0.00229753]\n",
            " [ 0.01681829]\n",
            " [ 0.00273628]\n",
            " [ 0.00631818]\n",
            " [ 0.03158499]\n",
            " [ 0.02249821]\n",
            " [ 0.02541325]\n",
            " [ 0.02698627]\n",
            " [ 0.02543402]\n",
            " [ 0.03089235]\n",
            " [ 0.02076349]\n",
            " [ 0.02368742]\n",
            " [-0.00154854]\n",
            " [ 0.02414221]\n",
            " [-0.00363321]\n",
            " [ 0.00184931]\n",
            " [ 0.00479617]\n",
            " [ 0.00732298]\n",
            " [ 0.00059287]\n",
            " [-0.00533707]]\n"
          ]
        }
      ]
    },
    {
      "cell_type": "code",
      "source": [
        "correct=0;\n",
        "m,n=X_ptest.shape\n",
        "zeroes_num=0\n",
        "for i in range (m):\n",
        "    temp=np.dot(X_ptest[i],w)\n",
        "    if temp<0.5:\n",
        "        temp=0\n",
        "    else:\n",
        "        temp=1\n",
        "    if temp==Y_test[i]:\n",
        "        correct+=1\n",
        "print(\"Accuracy: \", (correct/m)*100, \"%\")\n",
        "\n"
      ],
      "metadata": {
        "colab": {
          "base_uri": "https://localhost:8080/"
        },
        "id": "4mGYK0UInhnA",
        "outputId": "93aa02bc-d730-4ff6-d8de-60fdd63872ab"
      },
      "execution_count": null,
      "outputs": [
        {
          "output_type": "stream",
          "name": "stdout",
          "text": [
            "Accuracy:  75.0 %\n"
          ]
        }
      ]
    },
    {
      "cell_type": "markdown",
      "source": [
        "## **_Insights drawn (plots, markdown explanations)_**"
      ],
      "metadata": {
        "id": "FlUMAWsiSug9"
      }
    },
    {
      "cell_type": "code",
      "source": [
        "plt.plot(lasso_cost) # plot for lasso cost function\n",
        "plt.ylabel(\"Cost\")\n",
        "plt.xlabel(\"Epochs\")\n",
        "plt.title(\"Lasso Regression Cost vs Epochs\")\n",
        "plt.show()"
      ],
      "metadata": {
        "id": "skm6abBuAj2e",
        "colab": {
          "base_uri": "https://localhost:8080/",
          "height": 472
        },
        "outputId": "90107b02-df54-4256-e0a8-a08c35bd2d55"
      },
      "execution_count": null,
      "outputs": [
        {
          "output_type": "display_data",
          "data": {
            "text/plain": [
              "<Figure size 640x480 with 1 Axes>"
            ],
            "image/png": "[encoded data removed]"
          },
          "metadata": {}
        }
      ]
    },
    {
      "cell_type": "code",
      "source": [
        "plt.plot(ridge_cost) #plot for ridge cost function\n",
        "plt.ylabel(\"Cost\")\n",
        "plt.xlabel(\"Epochs\")\n",
        "plt.title(\"Ridge Regression Cost vs Epochs\")\n",
        "plt.show()"
      ],
      "metadata": {
        "id": "ZRRNyaimS0iR",
        "colab": {
          "base_uri": "https://localhost:8080/",
          "height": 472
        },
        "outputId": "f3bdea52-83cd-4dc3-9b5b-57e23dfd35f8"
      },
      "execution_count": null,
      "outputs": [
        {
          "output_type": "display_data",
          "data": {
            "text/plain": [
              "<Figure size 640x480 with 1 Axes>"
            ],
            "image/png": "[encoded data removed]"
          },
          "metadata": {}
        }
      ]
    },
    {
      "cell_type": "markdown",
      "source": [
        "# **_5. Comparison of Logistic Regression and Least Squares Classification_**\n",
        "\n",
        "## **_Logistic Regression_**"
      ],
      "metadata": {
        "id": "jzSfpXtdS_q0"
      }
    },
    {
      "cell_type": "markdown",
      "source": [
        "\n",
        "# Logistic Regression\n",
        "\n",
        "Logistic Regression is a versatile and widely used statistical model for binary and multi-class classification tasks. It's particularly valuable in situations where we want to predict the probability of an event occurring based on input features.\n",
        "\n",
        "## Explanation\n",
        "\n",
        "- **Objective**: The primary objective of Logistic Regression is to model the probability of a binary outcome (commonly denoted as 0 or 1) or multiple discrete classes (multi-class) based on input features.\n",
        "\n",
        "- **Sigmoid Function**: Logistic Regression utilizes the sigmoid function to map the linear combination of input features and model parameters to a probability value within the range of [0, 1]. The sigmoid function is defined as:\n",
        "\n",
        "  ```\n",
        "  P(Y=1|X) = 1 / (1 + e^(-z))\n",
        "  ```\n",
        "\n",
        "  Where `P(Y=1|X)` represents the probability of the target variable (Y) being 1 given the input features (X), and `z` is the linear combination of input features and their associated coefficients.\n",
        "\n",
        "- **Model Parameters**: The model learns a set of coefficients (`bi`) and an intercept term (`b0`) during the training process. These parameters are adjusted to fit the data optimally.\n",
        "\n",
        "- **Training**: Logistic Regression is trained using optimization techniques like Batch Gradient Descent or Newton's method to maximize the likelihood of the observed outcomes. The goal is to find the parameter values that make the model's predictions as close as possible to the actual outcomes.\n",
        "\n",
        "- **Classification**: To make predictions, Logistic Regression applies a threshold (typically 0.5) to the estimated probabilities. If `P(Y=1|X) >= 0.5`, the model predicts class 1; otherwise, it predicts class 0 (in binary classification). For multi-class problems, it assigns the class with the highest predicted probability.\n",
        "\n",
        "- **Evaluation**: Model performance is assessed using various metrics, including accuracy, precision, recall, F1-score, and ROC-AUC, depending on the specific problem and requirements.\n",
        "\n",
        "- **Advantages**: Logistic Regression is interpretable, easy to implement, and provides insights into the influence of input features on the outcome. It can handle both linear and non-linear relationships.\n",
        "\n",
        "- **Applications**: It finds applications in fields like healthcare (disease diagnosis), marketing (customer churn prediction), finance (credit scoring), and natural language processing (text classification).\n",
        "\n"
      ],
      "metadata": {
        "id": "cXbwAFIq1E_F"
      }
    },
    {
      "cell_type": "code",
      "source": [
        "def logistic(x,w):#defining the sigmoid function\n",
        "    z=1/(1+(math.exp(-1*np.dot(x,w))))\n",
        "    return z"
      ],
      "metadata": {
        "id": "rm_kHUtHqdSy"
      },
      "execution_count": null,
      "outputs": []
    },
    {
      "cell_type": "code",
      "source": [
        "def logistic_cost(X,y,w):#defining the  cost\n",
        "    m,n=X.shape\n",
        "    cost=0\n",
        "    for i in range(m):\n",
        "      cost+=y[i]*math.log(logistic(X[i],w))+(1-y[i])*math.log(1-logistic(X[i],w))\n",
        "    cost=0-cost\n",
        "    return cost/m"
      ],
      "metadata": {
        "id": "oJHAiEk3D-1I"
      },
      "execution_count": null,
      "outputs": []
    },
    {
      "cell_type": "code",
      "source": [
        "def logistic_gradient(X,y,w):#definig the gradient\n",
        "    m,n=X.shape\n",
        "    dj_dw=np.zeros((n,1))\n",
        "    for i in range (m):\n",
        "        temp=logistic(X[i],w)-y[i]\n",
        "        for j in range(n):\n",
        "          dj_dw[j]+=temp*X[i,j]\n",
        "    return dj_dw/m"
      ],
      "metadata": {
        "id": "Al1tYsSeGXXZ"
      },
      "execution_count": null,
      "outputs": []
    },
    {
      "cell_type": "code",
      "source": [
        "def logistic_gradient_descent(X,Y,w,a,iterations):#defining the gradient descent\n",
        "    m,n=X.shape\n",
        "    for i in range (iterations):\n",
        "        dj_dw=logistic_gradient(X,Y,w)\n",
        "        for j in range(n):\n",
        "            w[j]-=a*dj_dw[j]#updating the weights\n",
        "        logistic_cost_arr.append(logistic_cost(X,Y,w))\n",
        "    return w\n"
      ],
      "metadata": {
        "id": "FHoTGvTVHa4_"
      },
      "execution_count": null,
      "outputs": []
    },
    {
      "cell_type": "code",
      "source": [
        "w=np.zeros((9,1))\n",
        "a=0.01\n",
        "iterations=1100\n",
        "global logistic_cost_arr\n",
        "logistic_cost_arr=[]\n",
        "print(logistic_gradient_descent(X_train,Y_train,w,a,iterations))"
      ],
      "metadata": {
        "id": "bCt0UmBVHuRA",
        "colab": {
          "base_uri": "https://localhost:8080/"
        },
        "outputId": "5a2550f0-9da1-4362-b274-c736a7aba409"
      },
      "execution_count": null,
      "outputs": [
        {
          "output_type": "stream",
          "name": "stdout",
          "text": [
            "[[-0.65245467]\n",
            " [ 0.24411328]\n",
            " [ 0.74538059]\n",
            " [-0.13605052]\n",
            " [ 0.13366273]\n",
            " [-0.01191683]\n",
            " [ 0.36896193]\n",
            " [ 0.07479064]\n",
            " [ 0.04844996]]\n"
          ]
        }
      ]
    },
    {
      "cell_type": "code",
      "source": [
        "correct=0;\n",
        "m,n=X_test.shape\n",
        "zeroes_num=0\n",
        "for i in range (m):\n",
        "    temp=np.dot(X_test[i],w)\n",
        "    if temp<0.8:\n",
        "        temp=0\n",
        "    else:\n",
        "        temp=1\n",
        "    if temp==Y_test[i]:\n",
        "        correct+=1\n",
        "    if Y_test[i]==0:\n",
        "        zeroes_num+=1\n",
        "print(\"Accuracy: \", (correct/m)*100, \"%\")"
      ],
      "metadata": {
        "id": "Nu6mO91AKZBe",
        "colab": {
          "base_uri": "https://localhost:8080/"
        },
        "outputId": "ebdc4bd4-d64c-4956-c3ff-efb46ef6db4a"
      },
      "execution_count": null,
      "outputs": [
        {
          "output_type": "stream",
          "name": "stdout",
          "text": [
            "Accuracy:  78.0 %\n"
          ]
        }
      ]
    },
    {
      "cell_type": "markdown",
      "source": [
        "## **_Least Squares Classification_**"
      ],
      "metadata": {
        "id": "kdX2kQ-nTHXc"
      }
    },
    {
      "cell_type": "code",
      "source": [
        "# creating one hot encoding for the outcome column to create binary classes\n",
        "\n",
        "one_hot_encoded_data = pd.get_dummies(data, columns = ['Outcome'])"
      ],
      "metadata": {
        "id": "_7qJtwGnTMdb"
      },
      "execution_count": null,
      "outputs": []
    },
    {
      "cell_type": "code",
      "source": [
        "#creating the target matrix and splitting into training and test set\n",
        "\n",
        "T_complete = one_hot_encoded_data[['Outcome_0', 'Outcome_1']].values\n",
        "m = 400\n",
        "T_train = T_complete[:m, :]\n",
        "m = 100\n",
        "T_test = T_complete[-m:, :]\n",
        "T_train.shape"
      ],
      "metadata": {
        "id": "EBva433gK-b7",
        "colab": {
          "base_uri": "https://localhost:8080/"
        },
        "outputId": "e931b63c-4aa8-476e-894e-3996b0053fb2"
      },
      "execution_count": null,
      "outputs": [
        {
          "output_type": "execute_result",
          "data": {
            "text/plain": [
              "(400, 2)"
            ]
          },
          "metadata": {},
          "execution_count": 51
        }
      ]
    },
    {
      "cell_type": "code",
      "source": [
        "#finding Weights vector for discriminant function\n",
        "\n",
        "beta = np.linalg.inv(X_train.T @ X_train) @ (X_train.T @ T_train)\n",
        "X_test.shape"
      ],
      "metadata": {
        "id": "5P3nVMqJLKXl",
        "colab": {
          "base_uri": "https://localhost:8080/"
        },
        "outputId": "2e316ac6-944e-4610-bd6a-7eed39615b51"
      },
      "execution_count": null,
      "outputs": [
        {
          "output_type": "execute_result",
          "data": {
            "text/plain": [
              "(100, 9)"
            ]
          },
          "metadata": {},
          "execution_count": 54
        }
      ]
    },
    {
      "cell_type": "code",
      "source": [
        "#assigning to class that yields highest value for each x\n",
        "\n",
        "Y_pred = []\n",
        "for x in X_test:\n",
        "  y = beta.T @ x.T\n",
        "  maxpos = np.argmax(y)\n",
        "  Y_pred.append(maxpos)\n",
        "len(Y_pred)"
      ],
      "metadata": {
        "id": "gP_KBTmkLNaO",
        "colab": {
          "base_uri": "https://localhost:8080/"
        },
        "outputId": "33db1631-d84d-4005-ac03-1f6572f2db8e"
      },
      "execution_count": null,
      "outputs": [
        {
          "output_type": "execute_result",
          "data": {
            "text/plain": [
              "100"
            ]
          },
          "metadata": {},
          "execution_count": 55
        }
      ]
    },
    {
      "cell_type": "code",
      "source": [
        "# Evaluate the model's performance\n",
        "\n",
        "equal = 0\n",
        "for i in range(100) :\n",
        "  if Y_pred[i]==Y_test[i]:\n",
        "    equal+=1\n",
        "\n",
        "print(\"Accuracy:\", equal, \"%\")"
      ],
      "metadata": {
        "id": "AcfgyW6GLba6",
        "colab": {
          "base_uri": "https://localhost:8080/"
        },
        "outputId": "f7fa5362-099d-4a80-d60f-2dd8e741874b"
      },
      "execution_count": null,
      "outputs": [
        {
          "output_type": "stream",
          "name": "stdout",
          "text": [
            "Accuracy: 74 %\n"
          ]
        }
      ]
    },
    {
      "cell_type": "markdown",
      "source": [
        "## **_Insights drawn_**"
      ],
      "metadata": {
        "id": "WSoa7KO1TM6-"
      }
    },
    {
      "cell_type": "code",
      "source": [
        "y_actu = Y_test\n",
        "y_pred = Y_pred\n",
        "\n",
        "def plot_confusion_matrix(df_confusion, title='Confusion matrix'):\n",
        "    plt.matshow(df_confusion) # imshow\n",
        "    plt.title(\"Confusion Matrix\")\n",
        "    plt.colorbar()\n",
        "    tick_marks = np.arange(len(df_confusion.columns))\n",
        "    plt.xticks(tick_marks, df_confusion.columns, rotation=45)\n",
        "    plt.yticks(tick_marks, df_confusion.index)\n",
        "    #plt.tight_layout()\n",
        "    plt.ylabel(df_confusion.index.name)\n",
        "    plt.xlabel(df_confusion.columns.name)\n",
        "\n",
        "df_confusion = pd.crosstab(y_actu, y_pred)\n",
        "plot_confusion_matrix(df_confusion)"
      ],
      "metadata": {
        "id": "IKfyXpYYQEWQ",
        "colab": {
          "base_uri": "https://localhost:8080/",
          "height": 428
        },
        "outputId": "66357ae9-6d2b-46d8-acd7-1e8c0286c3c6"
      },
      "execution_count": null,
      "outputs": [
        {
          "output_type": "display_data",
          "data": {
            "text/plain": [
              "<Figure size 480x480 with 2 Axes>"
            ],
            "image/png": "[encoded data removed]"
          },
          "metadata": {}
        }
      ]
    },
    {
      "cell_type": "code",
      "source": [
        "plt.plot(logistic_cost_arr) #plot for logistic cost function\n",
        "plt.ylabel(\"Cost\")\n",
        "plt.xlabel(\"Epochs\")\n",
        "plt.title(\"Logistic Regression Cost vs Epochs\")\n",
        "plt.show()"
      ],
      "metadata": {
        "id": "9KYE7sstTW4D",
        "colab": {
          "base_uri": "https://localhost:8080/",
          "height": 472
        },
        "outputId": "f181f47d-a85c-42f1-9465-b5e933f33f3a"
      },
      "execution_count": null,
      "outputs": [
        {
          "output_type": "display_data",
          "data": {
            "text/plain": [
              "<Figure size 640x480 with 1 Axes>"
            ],
            "image/png": "[encoded data removed]"
          },
          "metadata": {}
        }
      ]
    },
    {
      "cell_type": "markdown",
      "source": [
        "# **_5. References_**\n",
        "\n",
        "1.   https://developers.google.com/machine-learning/data-prep/transform/normalization\n",
        "2.  https://towardsdatascience.com/outlier-detection-methods-in-machine-learning-1c8b7cca6cb8\n",
        "3. https://towardsdatascience.com/stochastic-gradient-descent-clearly-explained-53d239905d31\n",
        "4. https://matplotlib.org/stable/index.html\n",
        "5. https://towardsdatascience.com/understanding-confusion-matrix-a9ad42dcfd62\n",
        "6. https://cs229.stanford.edu/main_notes.pdf\n"
      ],
      "metadata": {
        "id": "81SwQ_y4TaSc"
      }
    }
  ]
}