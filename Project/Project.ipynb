{
  "nbformat": 4,
  "nbformat_minor": 0,
  "metadata": {
    "colab": {
      "provenance": []
    },
    "kernelspec": {
      "name": "python3",
      "display_name": "Python 3"
    },
    "language_info": {
      "name": "python"
    }
  },
  "cells": [
    {
      "cell_type": "markdown",
      "source": [
        "##**BITS F464 - Semester 1 - MACHINE LEARNING**\n",
        "--------------------------------------------------------------------------------\n",
        "\n",
        "**PROJECT - MACHINE LEARNING FOR SUSTAINABLE DEVELOPMENT GOALS (SDGs)**\n",
        "**Early Detection of Heart Disease Using Machine Learning**\n",
        "--------------------------------------------------------------------------------\n",
        "***Team number:*** 23\n",
        "\n",
        "---\n",
        "***Full names of all students in the team:***Nilay Girgaonkar, Avaneesh Kulkarni, Shrey Singhal, Krittika Paul, Harshavardhan Gali\n",
        "\n",
        "---\n",
        "***Id number of all students in the team:***2021AAPS0566H,2021A4PS2560H,2021A4PS3097H,2021AAPS628H,2021AAPS0691H\n"
      ],
      "metadata": {
        "id": "Vj_r89FzT41w"
      }
    },
    {
      "cell_type": "markdown",
      "source": [
        "# **_1. Preprocessing of Dataset_**"
      ],
      "metadata": {
        "id": "yT-dTtra2h2n"
      }
    },
    {
      "cell_type": "markdown",
      "source": [
        "### The respective dataset has been shared in the project brief. Please refer to it."
      ],
      "metadata": {
        "id": "2UsOVUj22wrz"
      }
    },
    {
      "cell_type": "code",
      "source": [
        "#Importing all libraries\n",
        "import numpy as np\n",
        "import pandas as pd\n",
        "import matplotlib.pyplot as plt\n",
        "import seaborn as sns\n",
        "import math\n",
        "pd.options.mode.chained_assignment = None\n",
        "from google.colab import drive\n",
        "drive.mount('/content/drive')\n",
        "import os\n",
        "\n",
        "# Set the search parameters\n",
        "filename = 'Heart_Disease_dataset.csv'\n",
        "search_path = '/content/drive/MyDrive/'\n",
        "\n",
        "# Search for the file\n",
        "for root, dirs, files in os.walk(search_path):\n",
        "    if filename in files:\n",
        "        file_path = os.path.join(root, filename)\n",
        "        break\n",
        "\n",
        "import pandas as pd\n",
        "\n",
        "# Load the csv file into a DataFrame\n",
        "df = pd.read_csv(file_path)\n",
        "# View the first few rows of the DataFrame\n",
        "df.head()"
      ],
      "metadata": {
        "id": "p6P8579HX61A",
        "colab": {
          "base_uri": "https://localhost:8080/",
          "height": 223
        },
        "outputId": "f5e42c00-f9c4-4f50-b5a6-bd71334cc6b9"
      },
      "execution_count": null,
      "outputs": [
        {
          "output_type": "stream",
          "name": "stdout",
          "text": [
            "Drive already mounted at /content/drive; to attempt to forcibly remount, call drive.mount(\"/content/drive\", force_remount=True).\n"
          ]
        },
        {
          "output_type": "execute_result",
          "data": {
            "text/plain": [
              "   Cleveland  63  1  1.1  145  233 1.2  2  150  0  2.3  3 0.1  6  0.2\n",
              "0  Cleveland  67  1    4  160  286   0  2  108  1  1.5  2   3  3    2\n",
              "1  Cleveland  67  1    4  120  229   0  2  129  1  2.6  2   2  7    1\n",
              "2  Cleveland  37  1    3  130  250   0  0  187  0  3.5  3   0  3    0\n",
              "3  Cleveland  41  0    2  130  204   0  2  172  0  1.4  1   0  3    0\n",
              "4  Cleveland  56  1    2  120  236   0  0  178  0  0.8  1   0  3    0"
            ],
            "text/html": [
              "\n",
              "  <div id=\"df-507481ea-83f5-44ec-a4c4-3356c0d4a5f6\" class=\"colab-df-container\">\n",
              "    <div>\n",
              "<style scoped>\n",
              "    .dataframe tbody tr th:only-of-type {\n",
              "        vertical-align: middle;\n",
              "    }\n",
              "\n",
              "    .dataframe tbody tr th {\n",
              "        vertical-align: top;\n",
              "    }\n",
              "\n",
              "    .dataframe thead th {\n",
              "        text-align: right;\n",
              "    }\n",
              "</style>\n",
              "<table border=\"1\" class=\"dataframe\">\n",
              "  <thead>\n",
              "    <tr style=\"text-align: right;\">\n",
              "      <th></th>\n",
              "      <th>Cleveland</th>\n",
              "      <th>63</th>\n",
              "      <th>1</th>\n",
              "      <th>1.1</th>\n",
              "      <th>145</th>\n",
              "      <th>233</th>\n",
              "      <th>1.2</th>\n",
              "      <th>2</th>\n",
              "      <th>150</th>\n",
              "      <th>0</th>\n",
              "      <th>2.3</th>\n",
              "      <th>3</th>\n",
              "      <th>0.1</th>\n",
              "      <th>6</th>\n",
              "      <th>0.2</th>\n",
              "    </tr>\n",
              "  </thead>\n",
              "  <tbody>\n",
              "    <tr>\n",
              "      <th>0</th>\n",
              "      <td>Cleveland</td>\n",
              "      <td>67</td>\n",
              "      <td>1</td>\n",
              "      <td>4</td>\n",
              "      <td>160</td>\n",
              "      <td>286</td>\n",
              "      <td>0</td>\n",
              "      <td>2</td>\n",
              "      <td>108</td>\n",
              "      <td>1</td>\n",
              "      <td>1.5</td>\n",
              "      <td>2</td>\n",
              "      <td>3</td>\n",
              "      <td>3</td>\n",
              "      <td>2</td>\n",
              "    </tr>\n",
              "    <tr>\n",
              "      <th>1</th>\n",
              "      <td>Cleveland</td>\n",
              "      <td>67</td>\n",
              "      <td>1</td>\n",
              "      <td>4</td>\n",
              "      <td>120</td>\n",
              "      <td>229</td>\n",
              "      <td>0</td>\n",
              "      <td>2</td>\n",
              "      <td>129</td>\n",
              "      <td>1</td>\n",
              "      <td>2.6</td>\n",
              "      <td>2</td>\n",
              "      <td>2</td>\n",
              "      <td>7</td>\n",
              "      <td>1</td>\n",
              "    </tr>\n",
              "    <tr>\n",
              "      <th>2</th>\n",
              "      <td>Cleveland</td>\n",
              "      <td>37</td>\n",
              "      <td>1</td>\n",
              "      <td>3</td>\n",
              "      <td>130</td>\n",
              "      <td>250</td>\n",
              "      <td>0</td>\n",
              "      <td>0</td>\n",
              "      <td>187</td>\n",
              "      <td>0</td>\n",
              "      <td>3.5</td>\n",
              "      <td>3</td>\n",
              "      <td>0</td>\n",
              "      <td>3</td>\n",
              "      <td>0</td>\n",
              "    </tr>\n",
              "    <tr>\n",
              "      <th>3</th>\n",
              "      <td>Cleveland</td>\n",
              "      <td>41</td>\n",
              "      <td>0</td>\n",
              "      <td>2</td>\n",
              "      <td>130</td>\n",
              "      <td>204</td>\n",
              "      <td>0</td>\n",
              "      <td>2</td>\n",
              "      <td>172</td>\n",
              "      <td>0</td>\n",
              "      <td>1.4</td>\n",
              "      <td>1</td>\n",
              "      <td>0</td>\n",
              "      <td>3</td>\n",
              "      <td>0</td>\n",
              "    </tr>\n",
              "    <tr>\n",
              "      <th>4</th>\n",
              "      <td>Cleveland</td>\n",
              "      <td>56</td>\n",
              "      <td>1</td>\n",
              "      <td>2</td>\n",
              "      <td>120</td>\n",
              "      <td>236</td>\n",
              "      <td>0</td>\n",
              "      <td>0</td>\n",
              "      <td>178</td>\n",
              "      <td>0</td>\n",
              "      <td>0.8</td>\n",
              "      <td>1</td>\n",
              "      <td>0</td>\n",
              "      <td>3</td>\n",
              "      <td>0</td>\n",
              "    </tr>\n",
              "  </tbody>\n",
              "</table>\n",
              "</div>\n",
              "    <div class=\"colab-df-buttons\">\n",
              "\n",
              "  <div class=\"colab-df-container\">\n",
              "    <button class=\"colab-df-convert\" onclick=\"convertToInteractive('df-507481ea-83f5-44ec-a4c4-3356c0d4a5f6')\"\n",
              "            title=\"Convert this dataframe to an interactive table.\"\n",
              "            style=\"display:none;\">\n",
              "\n",
              "  <svg xmlns=\"http://www.w3.org/2000/svg\" height=\"24px\" viewBox=\"0 -960 960 960\">\n",
              "    <path d=\"M120-120v-720h720v720H120Zm60-500h600v-160H180v160Zm220 220h160v-160H400v160Zm0 220h160v-160H400v160ZM180-400h160v-160H180v160Zm440 0h160v-160H620v160ZM180-180h160v-160H180v160Zm440 0h160v-160H620v160Z\"/>\n",
              "  </svg>\n",
              "    </button>\n",
              "\n",
              "  <style>\n",
              "    .colab-df-container {\n",
              "      display:flex;\n",
              "      gap: 12px;\n",
              "    }\n",
              "\n",
              "    .colab-df-convert {\n",
              "      background-color: #E8F0FE;\n",
              "      border: none;\n",
              "      border-radius: 50%;\n",
              "      cursor: pointer;\n",
              "      display: none;\n",
              "      fill: #1967D2;\n",
              "      height: 32px;\n",
              "      padding: 0 0 0 0;\n",
              "      width: 32px;\n",
              "    }\n",
              "\n",
              "    .colab-df-convert:hover {\n",
              "      background-color: #E2EBFA;\n",
              "      box-shadow: 0px 1px 2px rgba(60, 64, 67, 0.3), 0px 1px 3px 1px rgba(60, 64, 67, 0.15);\n",
              "      fill: #174EA6;\n",
              "    }\n",
              "\n",
              "    .colab-df-buttons div {\n",
              "      margin-bottom: 4px;\n",
              "    }\n",
              "\n",
              "    [theme=dark] .colab-df-convert {\n",
              "      background-color: #3B4455;\n",
              "      fill: #D2E3FC;\n",
              "    }\n",
              "\n",
              "    [theme=dark] .colab-df-convert:hover {\n",
              "      background-color: #434B5C;\n",
              "      box-shadow: 0px 1px 3px 1px rgba(0, 0, 0, 0.15);\n",
              "      filter: drop-shadow(0px 1px 2px rgba(0, 0, 0, 0.3));\n",
              "      fill: #FFFFFF;\n",
              "    }\n",
              "  </style>\n",
              "\n",
              "    <script>\n",
              "      const buttonEl =\n",
              "        document.querySelector('#df-507481ea-83f5-44ec-a4c4-3356c0d4a5f6 button.colab-df-convert');\n",
              "      buttonEl.style.display =\n",
              "        google.colab.kernel.accessAllowed ? 'block' : 'none';\n",
              "\n",
              "      async function convertToInteractive(key) {\n",
              "        const element = document.querySelector('#df-507481ea-83f5-44ec-a4c4-3356c0d4a5f6');\n",
              "        const dataTable =\n",
              "          await google.colab.kernel.invokeFunction('convertToInteractive',\n",
              "                                                    [key], {});\n",
              "        if (!dataTable) return;\n",
              "\n",
              "        const docLinkHtml = 'Like what you see? Visit the ' +\n",
              "          '<a target=\"_blank\" href=https://colab.research.google.com/notebooks/data_table.ipynb>data table notebook</a>'\n",
              "          + ' to learn more about interactive tables.';\n",
              "        element.innerHTML = '';\n",
              "        dataTable['output_type'] = 'display_data';\n",
              "        await google.colab.output.renderOutput(dataTable, element);\n",
              "        const docLink = document.createElement('div');\n",
              "        docLink.innerHTML = docLinkHtml;\n",
              "        element.appendChild(docLink);\n",
              "      }\n",
              "    </script>\n",
              "  </div>\n",
              "\n",
              "\n",
              "<div id=\"df-f3a5858e-6b7e-4ff3-a9ea-217e47fea431\">\n",
              "  <button class=\"colab-df-quickchart\" onclick=\"quickchart('df-f3a5858e-6b7e-4ff3-a9ea-217e47fea431')\"\n",
              "            title=\"Suggest charts\"\n",
              "            style=\"display:none;\">\n",
              "\n",
              "<svg xmlns=\"http://www.w3.org/2000/svg\" height=\"24px\"viewBox=\"0 0 24 24\"\n",
              "     width=\"24px\">\n",
              "    <g>\n",
              "        <path d=\"M19 3H5c-1.1 0-2 .9-2 2v14c0 1.1.9 2 2 2h14c1.1 0 2-.9 2-2V5c0-1.1-.9-2-2-2zM9 17H7v-7h2v7zm4 0h-2V7h2v10zm4 0h-2v-4h2v4z\"/>\n",
              "    </g>\n",
              "</svg>\n",
              "  </button>\n",
              "\n",
              "<style>\n",
              "  .colab-df-quickchart {\n",
              "      --bg-color: #E8F0FE;\n",
              "      --fill-color: #1967D2;\n",
              "      --hover-bg-color: #E2EBFA;\n",
              "      --hover-fill-color: #174EA6;\n",
              "      --disabled-fill-color: #AAA;\n",
              "      --disabled-bg-color: #DDD;\n",
              "  }\n",
              "\n",
              "  [theme=dark] .colab-df-quickchart {\n",
              "      --bg-color: #3B4455;\n",
              "      --fill-color: #D2E3FC;\n",
              "      --hover-bg-color: #434B5C;\n",
              "      --hover-fill-color: #FFFFFF;\n",
              "      --disabled-bg-color: #3B4455;\n",
              "      --disabled-fill-color: #666;\n",
              "  }\n",
              "\n",
              "  .colab-df-quickchart {\n",
              "    background-color: var(--bg-color);\n",
              "    border: none;\n",
              "    border-radius: 50%;\n",
              "    cursor: pointer;\n",
              "    display: none;\n",
              "    fill: var(--fill-color);\n",
              "    height: 32px;\n",
              "    padding: 0;\n",
              "    width: 32px;\n",
              "  }\n",
              "\n",
              "  .colab-df-quickchart:hover {\n",
              "    background-color: var(--hover-bg-color);\n",
              "    box-shadow: 0 1px 2px rgba(60, 64, 67, 0.3), 0 1px 3px 1px rgba(60, 64, 67, 0.15);\n",
              "    fill: var(--button-hover-fill-color);\n",
              "  }\n",
              "\n",
              "  .colab-df-quickchart-complete:disabled,\n",
              "  .colab-df-quickchart-complete:disabled:hover {\n",
              "    background-color: var(--disabled-bg-color);\n",
              "    fill: var(--disabled-fill-color);\n",
              "    box-shadow: none;\n",
              "  }\n",
              "\n",
              "  .colab-df-spinner {\n",
              "    border: 2px solid var(--fill-color);\n",
              "    border-color: transparent;\n",
              "    border-bottom-color: var(--fill-color);\n",
              "    animation:\n",
              "      spin 1s steps(1) infinite;\n",
              "  }\n",
              "\n",
              "  @keyframes spin {\n",
              "    0% {\n",
              "      border-color: transparent;\n",
              "      border-bottom-color: var(--fill-color);\n",
              "      border-left-color: var(--fill-color);\n",
              "    }\n",
              "    20% {\n",
              "      border-color: transparent;\n",
              "      border-left-color: var(--fill-color);\n",
              "      border-top-color: var(--fill-color);\n",
              "    }\n",
              "    30% {\n",
              "      border-color: transparent;\n",
              "      border-left-color: var(--fill-color);\n",
              "      border-top-color: var(--fill-color);\n",
              "      border-right-color: var(--fill-color);\n",
              "    }\n",
              "    40% {\n",
              "      border-color: transparent;\n",
              "      border-right-color: var(--fill-color);\n",
              "      border-top-color: var(--fill-color);\n",
              "    }\n",
              "    60% {\n",
              "      border-color: transparent;\n",
              "      border-right-color: var(--fill-color);\n",
              "    }\n",
              "    80% {\n",
              "      border-color: transparent;\n",
              "      border-right-color: var(--fill-color);\n",
              "      border-bottom-color: var(--fill-color);\n",
              "    }\n",
              "    90% {\n",
              "      border-color: transparent;\n",
              "      border-bottom-color: var(--fill-color);\n",
              "    }\n",
              "  }\n",
              "</style>\n",
              "\n",
              "  <script>\n",
              "    async function quickchart(key) {\n",
              "      const quickchartButtonEl =\n",
              "        document.querySelector('#' + key + ' button');\n",
              "      quickchartButtonEl.disabled = true;  // To prevent multiple clicks.\n",
              "      quickchartButtonEl.classList.add('colab-df-spinner');\n",
              "      try {\n",
              "        const charts = await google.colab.kernel.invokeFunction(\n",
              "            'suggestCharts', [key], {});\n",
              "      } catch (error) {\n",
              "        console.error('Error during call to suggestCharts:', error);\n",
              "      }\n",
              "      quickchartButtonEl.classList.remove('colab-df-spinner');\n",
              "      quickchartButtonEl.classList.add('colab-df-quickchart-complete');\n",
              "    }\n",
              "    (() => {\n",
              "      let quickchartButtonEl =\n",
              "        document.querySelector('#df-f3a5858e-6b7e-4ff3-a9ea-217e47fea431 button');\n",
              "      quickchartButtonEl.style.display =\n",
              "        google.colab.kernel.accessAllowed ? 'block' : 'none';\n",
              "    })();\n",
              "  </script>\n",
              "</div>\n",
              "    </div>\n",
              "  </div>\n"
            ]
          },
          "metadata": {},
          "execution_count": 46
        }
      ]
    },
    {
      "cell_type": "code",
      "source": [
        "df.rename(columns = {'Cleveland':'Hospital','63':'age','1':'sex','1.1':'cp', '145':'trestbps','233':'chol','1.2':'fbs','2':'restecg','150':'thalach','0':'exang','2.3':'oldpeak','3':'slope',\n",
        "                     '0.1':'ca','6':'thal', '0.2':'num'}, inplace = True)"
      ],
      "metadata": {
        "id": "2QVYsrFbbos0"
      },
      "execution_count": null,
      "outputs": []
    },
    {
      "cell_type": "code",
      "source": [
        "#DEFINING DISCRETE AND CONTINUOUS COLUMNS\n",
        "discr = ['sex','cp','fbs','restecg','exang']\n",
        "cont = ['age', 'trestbps', 'chol', 'thalach', 'oldpeak']\n",
        "data=df.to_numpy()\n",
        "m,n=data.shape\n",
        "print(m,n)\n",
        "print(\"Number of missing values in each column:\")\n",
        "for i in range(n):\n",
        "  data_missing=0\n",
        "  for j in range(m):\n",
        "    if(data[j][i]=='?'):\n",
        "      data_missing+=1\n",
        "  print(df.columns[i],': ', data_missing)\n",
        "\n",
        "\n"
      ],
      "metadata": {
        "id": "I_l4kiScYyUL",
        "colab": {
          "base_uri": "https://localhost:8080/"
        },
        "outputId": "80b5e5b5-5eec-43c6-ea3a-25ce384791a0"
      },
      "execution_count": null,
      "outputs": [
        {
          "output_type": "stream",
          "name": "stdout",
          "text": [
            "919 15\n",
            "Number of missing values in each column:\n",
            "Hospital :  0\n",
            "age :  0\n",
            "sex :  0\n",
            "cp :  0\n",
            "trestbps :  59\n",
            "chol :  30\n",
            "fbs :  90\n",
            "restecg :  2\n",
            "thalach :  55\n",
            "exang :  55\n",
            "oldpeak :  62\n",
            "slope :  309\n",
            "ca :  611\n",
            "thal :  486\n",
            "num :  0\n"
          ]
        }
      ]
    },
    {
      "cell_type": "markdown",
      "source": [
        "We can see that the columns slope, ca and thal have a lot of missing values. We can remove these columns and not actually use them. For the rest of the missing values, we can just remove those specific entries from our dataset. Morever the Hospital should not matter when we are trying to create a model to predict the diagnosis."
      ],
      "metadata": {
        "id": "eO3LyjtTfbuP"
      }
    },
    {
      "cell_type": "code",
      "source": [
        "m,n=df.shape\n",
        "print(\"Shape before dropping columns: \",m,n)\n",
        "df.drop(['slope','ca','thal','Hospital'], axis=1,inplace=True)\n",
        "m,n=df.shape\n",
        "print(\"Shape after dropping columns: \",m,n)\n",
        "copy=df.to_numpy()\n",
        "for i in range(m):\n",
        "  flag=0\n",
        "  for j in range(n):\n",
        "    if(copy[i][j]=='?'):\n",
        "      flag+=1\n",
        "  if(flag!=0):\n",
        "    df.drop(i, axis=0, inplace=True)\n",
        "m,n=df.shape\n",
        "print(\"Shape after removing rows with missing entries: \",m,n)"
      ],
      "metadata": {
        "id": "Tq_wvaoCih8D",
        "colab": {
          "base_uri": "https://localhost:8080/"
        },
        "outputId": "110b43c1-886d-4da8-c756-60ce28691ed1"
      },
      "execution_count": null,
      "outputs": [
        {
          "output_type": "stream",
          "name": "stdout",
          "text": [
            "Shape before dropping columns:  919 15\n",
            "Shape after dropping columns:  919 11\n",
            "Shape after removing rows with missing entries:  739 11\n"
          ]
        }
      ]
    },
    {
      "cell_type": "markdown",
      "source": [
        "### ***_REMOVING OUTLIERS_***\n",
        "\n",
        "\n",
        "\n"
      ],
      "metadata": {
        "id": "ysdceMAKsraq"
      }
    },
    {
      "cell_type": "code",
      "source": [
        "m,n=df.shape\n",
        "for col in df.columns:\n",
        "        print('Working on column: {}'.format(col))\n",
        "        df[col] = pd.to_numeric(df[col], errors='coerce')\n",
        "        mean = df[col].mean()\n",
        "        sd = df[col].std()\n",
        "        df = df[(df[col] <= mean+(3*sd))]\n",
        "        df = df[(df[col] >= mean-(3*sd))]\n",
        "print(\"Shape after removing Outlier: \",df.shape)"
      ],
      "metadata": {
        "id": "PB4BisDzX1ru",
        "colab": {
          "base_uri": "https://localhost:8080/"
        },
        "outputId": "e746f5fd-27d2-4fb0-a6d2-d0205a86847b"
      },
      "execution_count": null,
      "outputs": [
        {
          "output_type": "stream",
          "name": "stdout",
          "text": [
            "Working on column: age\n",
            "Working on column: sex\n",
            "Working on column: cp\n",
            "Working on column: trestbps\n",
            "Working on column: chol\n",
            "Working on column: fbs\n",
            "Working on column: restecg\n",
            "Working on column: thalach\n",
            "Working on column: exang\n",
            "Working on column: oldpeak\n",
            "Working on column: num\n",
            "Shape after removing Outlier:  (721, 11)\n"
          ]
        }
      ]
    },
    {
      "cell_type": "code",
      "source": [
        "#Splitting data into features and target values and shuffling\n",
        "m,n=df.shape\n",
        "df = df.sample(frac = 1, random_state=0)#shuffling\n",
        "df_nb = df.copy(deep = True)\n",
        "X_complete = df.iloc[:,0:n-1]\n",
        "Y_complete = df.iloc[:,n-1:]"
      ],
      "metadata": {
        "id": "WHEsOZ7Eogzv"
      },
      "execution_count": null,
      "outputs": []
    },
    {
      "cell_type": "markdown",
      "source": [
        "### ***_CORRELATION MATRIX_***"
      ],
      "metadata": {
        "id": "860ZvYqFr_g3"
      }
    },
    {
      "cell_type": "code",
      "source": [
        "#PLOTTING THE CORRELATION MATRIX\n",
        "\n",
        "corrmat = X_complete.corr()\n",
        "\n",
        "plt.figure(figsize=(13, 6))\n",
        "sns.heatmap(corrmat, vmax = 1, annot = True, linewidths = .5)\n",
        "plt.xticks(rotation=30, horizontalalignment='right')\n",
        "plt.show()"
      ],
      "metadata": {
        "id": "iOPf6mH1qkSc",
        "colab": {
          "base_uri": "https://localhost:8080/",
          "height": 554
        },
        "outputId": "19eb427a-987f-478c-f3dc-36cc31d6ef35"
      },
      "execution_count": null,
      "outputs": [
        {
          "output_type": "display_data",
          "data": {
            "text/plain": [
              "<Figure size 1300x600 with 2 Axes>"
            ],
            "image/png": "[encoded data removed]"
          },
          "metadata": {}
        }
      ]
    },
    {
      "cell_type": "markdown",
      "source": [
        "### ***_BOXPLOT_***"
      ],
      "metadata": {
        "id": "7TjfCSgXsTUo"
      }
    },
    {
      "cell_type": "code",
      "source": [
        "#PLOTTING THE BOXPLOT FOR THE DATA\n",
        "\n",
        "fig, ax = plt.subplots(figsize=(15,10))\n",
        "sns.boxplot(data=X_complete, width= 0.5,ax=ax,  fliersize=3)\n",
        "plt.show()"
      ],
      "metadata": {
        "id": "qwt0Wb8DrMHw",
        "colab": {
          "base_uri": "https://localhost:8080/",
          "height": 830
        },
        "outputId": "c53ed5a2-960c-4a75-df39-35a3c0ee6257"
      },
      "execution_count": null,
      "outputs": [
        {
          "output_type": "display_data",
          "data": {
            "text/plain": [
              "<Figure size 1500x1000 with 1 Axes>"
            ],
            "image/png": "[encoded data removed]"
          },
          "metadata": {}
        }
      ]
    },
    {
      "cell_type": "markdown",
      "source": [
        "### ***_PLOTTING HISTOGRAMS FOR EACH FEATURE_***"
      ],
      "metadata": {
        "id": "woM8JiZbsecx"
      }
    },
    {
      "cell_type": "code",
      "source": [
        "m,n=X_complete.shape\n",
        "print(X_complete.shape)\n",
        "\n",
        "for i in range(n):\n",
        "    dummy=X_complete.iloc[:,i:i+1]\n",
        "    dummy=dummy.to_numpy()\n",
        "    plt.title(X_complete.columns[i])\n",
        "    plt.hist(dummy)\n",
        "    plt.show()"
      ],
      "metadata": {
        "id": "MnRT1w0Tsq3z",
        "colab": {
          "base_uri": "https://localhost:8080/",
          "height": 1000
        },
        "outputId": "a07a719d-218d-4233-a50b-a8fa79fe390b"
      },
      "execution_count": null,
      "outputs": [
        {
          "output_type": "stream",
          "name": "stdout",
          "text": [
            "(721, 10)\n"
          ]
        },
        {
          "output_type": "display_data",
          "data": {
            "text/plain": [
              "<Figure size 640x480 with 1 Axes>"
            ],
            "image/png": "[encoded data removed]"
          },
          "metadata": {}
        },
        {
          "output_type": "display_data",
          "data": {
            "text/plain": [
              "<Figure size 640x480 with 1 Axes>"
            ],
            "image/png": "[encoded data removed]"
          },
          "metadata": {}
        },
        {
          "output_type": "display_data",
          "data": {
            "text/plain": [
              "<Figure size 640x480 with 1 Axes>"
            ],
            "image/png": "[encoded data removed]"
          },
          "metadata": {}
        },
        {
          "output_type": "display_data",
          "data": {
            "text/plain": [
              "<Figure size 640x480 with 1 Axes>"
            ],
            "image/png": "[encoded data removed]"
          },
          "metadata": {}
        },
        {
          "output_type": "display_data",
          "data": {
            "text/plain": [
              "<Figure size 640x480 with 1 Axes>"
            ],
            "image/png": "[encoded data removed]"
          },
          "metadata": {}
        },
        {
          "output_type": "display_data",
          "data": {
            "text/plain": [
              "<Figure size 640x480 with 1 Axes>"
            ],
            "image/png": "[encoded data removed]"
          },
          "metadata": {}
        },
        {
          "output_type": "display_data",
          "data": {
            "text/plain": [
              "<Figure size 640x480 with 1 Axes>"
            ],
            "image/png": "[encoded data removed]"
          },
          "metadata": {}
        },
        {
          "output_type": "display_data",
          "data": {
            "text/plain": [
              "<Figure size 640x480 with 1 Axes>"
            ],
            "image/png": "[encoded data removed]"
          },
          "metadata": {}
        },
        {
          "output_type": "display_data",
          "data": {
            "text/plain": [
              "<Figure size 640x480 with 1 Axes>"
            ],
            "image/png": "[encoded data removed]"
          },
          "metadata": {}
        },
        {
          "output_type": "display_data",
          "data": {
            "text/plain": [
              "<Figure size 640x480 with 1 Axes>"
            ],
            "image/png": "[encoded data removed]"
          },
          "metadata": {}
        }
      ]
    },
    {
      "cell_type": "markdown",
      "source": [
        "## **Binning**\n",
        "####Binning is a data preprocessing technique that involves grouping continuous data into intervals, or bins. The purpose of binning is to simplify complex datasets by categorizing numerical values into discrete ranges."
      ],
      "metadata": {
        "id": "QLB0anIcpfWZ"
      }
    },
    {
      "cell_type": "code",
      "source": [
        "def binning(df):\n",
        "  df= df.astype(float)\n",
        "  bins_dict = {}\n",
        "  for col in cont:\n",
        "      df[col],bins = pd.cut(df[col], bins = 4, labels = [1,2,3,4], retbins = True)\n",
        "      bins_dict[col] = bins\n",
        "  return df"
      ],
      "metadata": {
        "id": "c8I7eqC2oSoQ"
      },
      "execution_count": null,
      "outputs": []
    },
    {
      "cell_type": "code",
      "source": [
        "#Storing the dataframes with a different name\n",
        "X_comp=X_complete\n",
        "Y_comp=Y_complete"
      ],
      "metadata": {
        "id": "isq1kYTjHpfv"
      },
      "execution_count": null,
      "outputs": []
    },
    {
      "cell_type": "markdown",
      "source": [
        "## ***Splitting Dataset into Test and Training Sets***"
      ],
      "metadata": {
        "id": "Jt2t80tvuLvp"
      }
    },
    {
      "cell_type": "code",
      "source": [
        "#Converting dataframes to numpy arrays\n",
        "X_complete=X_comp.to_numpy()\n",
        "Y_complete=Y_comp.to_numpy()\n",
        "M,n = X_complete.shape\n",
        "#Splitting into training and test data\n",
        "train_rate=0.7\n",
        "m=math.floor(M*train_rate)\n",
        "df=X_comp\n",
        "df_train = df.iloc[:m, :]\n",
        "X_train_df = df_train\n",
        "X_train_df=binning(X_train_df)\n",
        "X_train=X_train_df.to_numpy()\n",
        "Y_train=Y_complete[:m,:]\n",
        "m=M-m\n",
        "df_test =df.iloc[-m:, :]\n",
        "X_test_df=binning(df_test)\n",
        "X_test=X_test_df.to_numpy()\n",
        "Y_test=Y_complete[-m:, :]\n",
        "X_test = X_test.astype('float128')\n",
        "X_train=X_train.astype('float128')\n",
        "# Converting the Target columns to binary values\n",
        "m,n=Y_train.shape\n",
        "for i in range(m):\n",
        "    if(Y_train[i]>=1):\n",
        "      Y_train[i]=1\n",
        "m,n=Y_test.shape\n",
        "for i in range(m):\n",
        "    if(Y_test[i]>=1):\n",
        "      Y_test[i]=1"
      ],
      "metadata": {
        "id": "7Jmi-2rBuKGo"
      },
      "execution_count": null,
      "outputs": []
    },
    {
      "cell_type": "markdown",
      "source": [
        "###Splitting Dataset Specifically for Naive Bayes"
      ],
      "metadata": {
        "id": "jtf1dTJmIPKo"
      }
    },
    {
      "cell_type": "code",
      "source": [
        "df_nb.reset_index(drop = True, inplace = True)\n",
        "\n",
        "M = 578\n",
        "discr = ['sex','cp','fbs','restecg','exang']\n",
        "cont = ['age', 'trestbps', 'chol', 'thalach', 'oldpeak']\n",
        "m,n = df_nb.shape\n",
        "df_train_nb = df_nb.iloc[:M, :]\n",
        "for col in cont:\n",
        " df_train_nb[col],bins = pd.cut(df_train_nb[col], bins = 4, labels = [1,2,3,4], retbins = True)\n",
        "X_train_nb = df_train_nb.iloc[:,0:n-1]\n",
        "Y_train_nb = df_train_nb.iloc[:, n-1:]\n",
        "\n",
        "df_test_nb = df_nb.iloc[M:, :]\n",
        "for col in cont:\n",
        " df_test_nb[col],bins = pd.cut(df_test_nb[col], bins = 4, labels = [1,2,3,4], retbins = True)\n",
        "X_test_nb = df_test_nb.iloc[:,0:n-1]\n",
        "Y_test_nb = df_test_nb.iloc[:, n-1:]"
      ],
      "metadata": {
        "id": "X5fnBNboEuEP"
      },
      "execution_count": null,
      "outputs": []
    },
    {
      "cell_type": "markdown",
      "source": [
        "# ***2. ML Model 1***"
      ],
      "metadata": {
        "id": "rDu7bwbNRhaK"
      }
    },
    {
      "cell_type": "markdown",
      "source": [
        "## Fisher's Discriminant Analysis\n",
        "\n",
        "Fisher's discriminant analysis, also known as Linear Discriminant Analysis (LDA), is a method used for dimensionality reduction and classification. The goal of LDA is to find the linear combinations of features that best separate two or more classes.\n",
        "\n",
        "Given a set of observations `x` belonging to different classes `C_k`, where `k` ranges from 1 to `K`, the Fisher's criterion aims to maximize the ratio of the between-class variance to the within-class variance.\n",
        "\n",
        "The Fisher's criterion for a two-class problem is given by:\n",
        "\n",
        "$\n",
        " J(w) = \\frac{w^T \\mathbf{S}_B w}{w^T \\mathbf{S}_W w}\n",
        "$\n",
        "Here,\n",
        "- `w` is the weight vector that defines the linear combination.\n",
        "- $(\\mathbf{S}_B)$ is the between-class scatter matrix.\n",
        "- $(\\mathbf{S}_W)$ is the within-class scatter matrix.\n",
        "\n",
        "The within-class scatter matrix $(\\mathbf{S}_W)$ is calculated as the sum of the covariance matrices for each class:\n",
        "\n",
        "$\n",
        "\\mathbf{S}_W = \\sum_{{k=1}}^{{K}} \\sum_{{i=1}}^{{N_k}} (x_{{ki}} - \\mathbf{m}_k)(x_{{ki}} - \\mathbf{m}_k)^T\n",
        "$\n",
        "\n",
        "where `N_k` is the number of observations in class `C_k`, \\(x_{{ki}}\\) is an observation in class `C_k`, and $(\\mathbf{m}_k)$ is the mean vector for class `C_k`.\n",
        "\n",
        "The between-class scatter matrix $(\\mathbf{S}_B)$ is calculated as:\n",
        "\n",
        "$\n",
        " \\mathbf{S}_B = \\sum_{{k=1}}^{{K}} N_k (\\mathbf{m}_k - \\mathbf{m})(\\mathbf{m}_k - \\mathbf{m})^T\n",
        "$\n",
        "\n",
        "where $\\mathbf{m}$ is the overall mean vector.\n",
        "\n",
        "## Optimal Weight Vector\n",
        "\n",
        "The optimal weight vector $w$ in terms of the within-class scatter matrix $ ( \\mathbf{S}_W^{-1} )$ and the difference between class means $ (\\mathbf{m}_2 - \\mathbf{m}_1)  $can be expressed as:\n",
        "\n",
        "$\n",
        " w \\propto \\mathbf{S}_W^{-1} (\\mathbf{m}_2 - \\mathbf{m}_1)\n",
        "$\n",
        "\n",
        "\n",
        "\n"
      ],
      "metadata": {
        "id": "tRicvIpEXXHK"
      }
    },
    {
      "cell_type": "code",
      "source": [
        "#First lets split the training set into two different sets, one where num=0, and the other where num!=0\n",
        "m,n=X_train.shape\n",
        "mask_0 = (Y_train[:, 0] == 0)\n",
        "X_trai=np.copy(X_train)\n",
        "X_train_class1 = X_trai[mask_0]\n",
        "X_train_class2 = X_trai[~mask_0]"
      ],
      "metadata": {
        "id": "oAd4cNwERr90"
      },
      "execution_count": null,
      "outputs": []
    },
    {
      "cell_type": "code",
      "source": [
        "#Now lets find the means of the corresponding clases\n",
        "m,n=X_train.shape\n",
        "M1=X_train_class1.mean(axis=0)\n",
        "M2=X_train_class2.mean(axis=0)\n",
        "M1 = np.array(M1).reshape((-1, 1))\n",
        "M2 = np.array(M2).reshape((-1, 1))\n",
        "M1=np.float128(M1)\n",
        "M2=np.float128(M2)\n",
        "print(\"M1: \")\n",
        "print(M1)\n",
        "print(\"M2: \")\n",
        "print(M2)"
      ],
      "metadata": {
        "id": "J_mwW57VkQoj",
        "colab": {
          "base_uri": "https://localhost:8080/"
        },
        "outputId": "43baf689-9821-46c4-c7c8-ac75349156d6"
      },
      "execution_count": null,
      "outputs": [
        {
          "output_type": "stream",
          "name": "stdout",
          "text": [
            "M1: \n",
            "[[2.35772358]\n",
            " [0.63821138]\n",
            " [2.78455285]\n",
            " [2.13821138]\n",
            " [2.78455285]\n",
            " [0.09349593]\n",
            " [0.51219512]\n",
            " [3.1097561 ]\n",
            " [0.13821138]\n",
            " [1.42682927]]\n",
            "M2: \n",
            "[[2.74806202]\n",
            " [0.8875969 ]\n",
            " [3.60852713]\n",
            " [2.37596899]\n",
            " [2.62015504]\n",
            " [0.15891473]\n",
            " [0.65891473]\n",
            " [2.39147287]\n",
            " [0.62403101]\n",
            " [2.18217054]]\n"
          ]
        }
      ]
    },
    {
      "cell_type": "code",
      "source": [
        "#Now lets find the Sw which is the within class covariance matrix\n",
        "m,n=X_train_class1.shape\n",
        "Sw=np.zeros((n,n))\n",
        "Sw=Sw.astype('float64')\n",
        "for i in range(m):\n",
        "    xi = np.copy(X_train_class1[i])\n",
        "    xi=np.array(xi).reshape((-1, 1))\n",
        "    temp = xi - M1\n",
        "    temp = np.copy(temp.T)  # Assign the transposed array back to temp\n",
        "    Sw += np.matmul((xi - M1), temp)\n",
        "\n",
        "m, n = X_train_class2.shape\n",
        "for i in range(m):\n",
        "    xi = np.copy(X_train_class2[i])\n",
        "    xi = np.array(xi).reshape((-1, 1))\n",
        "    temp = xi - M2\n",
        "    temp = np.copy(temp.T)  # Assign the transposed array back to temp\n",
        "    Sw += np.matmul((xi - M2), temp)\n",
        "print(\"Sw: \")\n",
        "print(Sw)"
      ],
      "metadata": {
        "id": "Db0s5dsUmhuC",
        "colab": {
          "base_uri": "https://localhost:8080/"
        },
        "outputId": "35cfbd38-d9f5-430e-8f4a-0d1085bdfc99"
      },
      "execution_count": null,
      "outputs": [
        {
          "output_type": "stream",
          "name": "stdout",
          "text": [
            "Sw: \n",
            "[[ 3.17144356e+02 -1.14688032e+01  8.51361316e+00  5.92753829e+01\n",
            "  -1.73057289e+00  2.31018151e+01  7.87562866e+01 -9.42128002e+01\n",
            "   2.63994139e+01  4.52801097e+01]\n",
            " [-1.14688032e+01  8.25411231e+01  1.14724901e+01 -1.79608622e+00\n",
            "  -1.41903006e+01 -7.03346568e-02 -2.30610701e+00  1.12100586e+00\n",
            "   4.39771223e+00  5.27075061e+00]\n",
            " [ 8.51361316e+00  1.14724901e+01  3.43042541e+02 -2.87019285e+01\n",
            "   2.16959728e-01 -5.99432785e+00  6.69672906e+00 -4.66441671e+01\n",
            "   5.53523350e+01  3.60211760e+01]\n",
            " [ 5.92753829e+01 -1.79608622e+00 -2.87019285e+01  2.69831821e+02\n",
            "   2.01701645e+01  1.24064095e+01  4.67063717e+00 -9.70457553e+00\n",
            "   1.57698053e+01  4.18172622e+01]\n",
            " [-1.73057289e+00 -1.41903006e+01  2.16959728e-01  2.01701645e+01\n",
            "   2.98356495e+02  2.52892796e+00  1.87199849e+01  3.11814143e+01\n",
            "   7.48024201e+00  4.14746644e+01]\n",
            " [ 2.31018151e+01 -7.03346568e-02 -5.99432785e+00  1.24064095e+01\n",
            "   2.52892796e+00  5.53340896e+01  1.72040083e+01  4.25222159e-01\n",
            "  -7.64133106e-01 -2.28606542e+00]\n",
            " [ 7.87562866e+01 -2.30610701e+00  6.69672906e+00  4.67063717e+00\n",
            "   1.87199849e+01  1.72040083e+01  3.27447911e+02  6.20344110e-01\n",
            "  -2.49990546e+00  1.72505199e+01]\n",
            " [-9.42128002e+01  1.12100586e+00 -4.66441671e+01 -9.70457553e+00\n",
            "   3.11814143e+01  4.25222159e-01  6.20344110e-01  3.45497826e+02\n",
            "  -4.67588391e+01 -2.09236151e+01]\n",
            " [ 2.63994139e+01  4.39771223e+00  5.53523350e+01  1.57698053e+01\n",
            "   7.48024201e+00 -7.64133106e-01 -2.49990546e+00 -4.67588391e+01\n",
            "   8.98318208e+01  4.61583475e+01]\n",
            " [ 4.52801097e+01  5.27075061e+00  3.60211760e+01  4.18172622e+01\n",
            "   4.14746644e+01 -2.28606542e+00  1.72505199e+01 -2.09236151e+01\n",
            "   4.61583475e+01  3.76620911e+02]]\n"
          ]
        }
      ]
    },
    {
      "cell_type": "code",
      "source": [
        "#Now lets find w\n",
        "temp=np.linalg.inv(Sw)\n",
        "w=np.matmul(temp,(M1-M2))\n",
        "print(\"w: \")\n",
        "print(w)"
      ],
      "metadata": {
        "id": "nfk_ES9ruwui",
        "colab": {
          "base_uri": "https://localhost:8080/"
        },
        "outputId": "a6795fb4-a310-4a2c-a7c3-b5805e6c353d"
      },
      "execution_count": null,
      "outputs": [
        {
          "output_type": "stream",
          "name": "stdout",
          "text": [
            "w: \n",
            "[[-0.00019083]\n",
            " [-0.00251814]\n",
            " [-0.00160135]\n",
            " [-0.00058884]\n",
            " [ 0.00062835]\n",
            " [-0.00118713]\n",
            " [-0.0003041 ]\n",
            " [ 0.0012805 ]\n",
            " [-0.00283785]\n",
            " [-0.00137238]]\n"
          ]
        }
      ]
    },
    {
      "cell_type": "code",
      "source": [
        "#Now lets find the threshold\n",
        "def find_threshold(X_test,w):\n",
        "  m,n=X_test.shape\n",
        "  set1=np.zeros((m,1))\n",
        "  set2=np.zeros((m,1))\n",
        "  complete=np.zeros((m,1))\n",
        "  for i in range(m):\n",
        "      temp=w.T\n",
        "      xi=np.copy(X_train[i])\n",
        "      xi=np.array(xi).reshape((-1, 1))\n",
        "      temp=np.matmul(temp,xi)\n",
        "      if(Y_train[i]==1):\n",
        "        set1[i]=temp\n",
        "      else:\n",
        "        set2[i]=temp\n",
        "      complete[i]=temp\n",
        "  max_correct=0\n",
        "  threshold=0\n",
        "  for i in range(m):\n",
        "      set1_right = 0\n",
        "      set1_left = 0\n",
        "      set2_right = 0\n",
        "      set2_left = 0\n",
        "      correct = 0\n",
        "      for j in range(m):\n",
        "          if set1[j] != 0:\n",
        "              if set1[j] >= complete[i]:\n",
        "                  set1_right += 1\n",
        "              else:\n",
        "                  set1_left += 1\n",
        "          else:\n",
        "              if set2[j] >= complete[i]:\n",
        "                  set2_right += 1\n",
        "              else:\n",
        "                  set2_left += 1\n",
        "\n",
        "      # Check if the denominator is zero before performing division\n",
        "      if (set2_left + set1_left) != 0:\n",
        "          correct += set1_left / (set2_left + set1_left)\n",
        "\n",
        "      if (set1_right + set2_right) != 0:\n",
        "          correct=correct*( set2_right / (set1_right + set2_right))\n",
        "\n",
        "      if correct > max_correct:\n",
        "          threshold = complete[i]\n",
        "          max_correct=correct\n",
        "  return threshold\n",
        "\n"
      ],
      "metadata": {
        "id": "nE6EONgzc_BC"
      },
      "execution_count": null,
      "outputs": []
    },
    {
      "cell_type": "code",
      "source": [
        "m,n=X_train.shape\n",
        "true_positive=0\n",
        "false_positive=0\n",
        "true_negative=0\n",
        "false_negative=0\n",
        "result=np.zeros((m,1))\n",
        "wrong=0\n",
        "threshold=find_threshold(X_train,w)\n",
        "print(\"Threshold: \", threshold)\n",
        "for i in range(m):\n",
        "    temp=w.T\n",
        "    xi=np.copy(X_train[i])\n",
        "    xi=np.array(xi).reshape((-1, 1))\n",
        "    temp=np.matmul(temp,xi)\n",
        "    if(temp<=threshold):\n",
        "      if(Y_train[i]==1):\n",
        "        true_positive+=1\n",
        "      else:\n",
        "        false_positive+=1\n",
        "    else:\n",
        "      if(Y_train[i]==0):\n",
        "        true_negative+=1\n",
        "      else:\n",
        "        false_negative+=1\n",
        "print(\"True positive: \", true_positive)\n",
        "print(\"False positive: \",false_positive)\n",
        "print(\"True negative: \",true_negative)\n",
        "print(\"False negative: \",false_negative)\n",
        "print(\"Accuracy on Training set: \",((true_positive+true_negative)/m)*100, \"%\")"
      ],
      "metadata": {
        "id": "m4Mg2l3UwPhY",
        "colab": {
          "base_uri": "https://localhost:8080/"
        },
        "outputId": "e1cf33c5-dc78-4988-eb0a-956e0a97c195"
      },
      "execution_count": null,
      "outputs": [
        {
          "output_type": "stream",
          "name": "stdout",
          "text": [
            "Threshold:  [-0.00612873]\n",
            "True positive:  226\n",
            "False positive:  70\n",
            "True negative:  176\n",
            "False negative:  32\n",
            "Accuracy on Training set:  79.76190476190477 %\n"
          ]
        }
      ]
    },
    {
      "cell_type": "code",
      "source": [
        "#Now lets test the accuracy on the testset\n",
        "m,n=X_test.shape\n",
        "true_positive=0\n",
        "false_positive=0\n",
        "true_negative=0\n",
        "false_negative=0\n",
        "wrong=0\n",
        "for i in range(m):\n",
        "    temp=w.T\n",
        "    xi=np.copy(X_test[i])\n",
        "    xi=np.array(xi).reshape((-1, 1))\n",
        "    temp=np.matmul(temp,xi)\n",
        "    if(temp>threshold):\n",
        "      if(Y_test[i]==0):\n",
        "        true_positive+=1\n",
        "      else:\n",
        "        false_positive+=1\n",
        "    else:\n",
        "      if(Y_test[i]!=0):\n",
        "        true_negative+=1\n",
        "      else:\n",
        "        false_negative+=1\n",
        "print(\"True positive: \", true_positive)\n",
        "print(\"False positive: \",false_positive)\n",
        "print(\"True negative: \",true_negative)\n",
        "print(\"False negative: \",false_negative)\n",
        "print(\"Accuracy on Testing set: \",((true_positive+true_negative)/m)*100, \"%\")\n"
      ],
      "metadata": {
        "id": "GdxwcxTA0E7y",
        "colab": {
          "base_uri": "https://localhost:8080/"
        },
        "outputId": "7ea32da9-0fda-4e27-a425-f0377d2152cd"
      },
      "execution_count": null,
      "outputs": [
        {
          "output_type": "stream",
          "name": "stdout",
          "text": [
            "True positive:  70\n",
            "False positive:  10\n",
            "True negative:  100\n",
            "False negative:  37\n",
            "Accuracy on Testing set:  78.3410138248848 %\n"
          ]
        }
      ]
    },
    {
      "cell_type": "markdown",
      "source": [
        "# ***3. ML Model 2***\n",
        "\n"
      ],
      "metadata": {
        "id": "y81SQxOrRso5"
      }
    },
    {
      "cell_type": "markdown",
      "source": [
        "## Perceptron\n",
        "\n",
        "The perceptron is a simple algorithm for binary classification. It takes a set of input features and produces a binary output based on a set of weights and a threshold.\n",
        "\n",
        "The perceptron's output, $ y $, is calculated as follows:\n",
        "\n",
        "$\n",
        " y = \\text{sign}\\left(w_0 + w_1\\phi(x_1) + w_2\\phi(x_2) + \\ldots + w_n\\phi(x_n)\\right)\n",
        "$\n",
        "Here,\n",
        "- $ w_0 $ is the bias term,\n",
        "- $ w_1, w_2, \\ldots, w_n $ are the weights associated with transformed input features $ \\phi(x_1), \\phi(x_2), \\ldots, \\phi(x_n) $,\n",
        "- $ \\phi(\\cdot) $ is a non-linear transformation function,\n",
        "- $ \\text{sign}(\\cdot) $ is the sign function that outputs +1 if the argument is positive, 0 if it's zero, and -1 if it's negative.\n",
        "\n",
        "The perceptron learning algorithm involves adjusting the weights based on misclassifications. For a misclassified point $ (x, y) $, the weight update is given by:\n",
        "\n",
        "$\n",
        " w_i = w_i + \\alpha \\cdot (y_{\\text{true}} - y_{\\text{pred}}) \\cdot \\phi(x_i)\n",
        "$\n",
        "Here,\n",
        "- $ \\alpha $ is the learning rate,\n",
        "- $ y_{\\text{true}} $ is the true label,\n",
        "- $ y_{\\text{pred}} $ is the predicted label,\n",
        "- $ \\phi(x_i) $ is the transformed input feature associated with weight $ w_i $.\n",
        "\n",
        "The perceptron learning algorithm iteratively updates the weights until convergence or a predefined number of iterations.\n",
        "\n",
        "\n"
      ],
      "metadata": {
        "id": "HqtZWOf_3_zz"
      }
    },
    {
      "cell_type": "code",
      "source": [
        "def create_polynomial_features(X, degree):\n",
        "    m, n = X.shape\n",
        "    X_poly = np.ones((m, 1))\n",
        "    for d in range(1, degree + 1):\n",
        "        for i in range(n):\n",
        "            X_poly = np.column_stack((X_poly, X[:, i]**d))\n",
        "\n",
        "    return X_poly\n"
      ],
      "metadata": {
        "id": "uJAZo2CvMX3a"
      },
      "execution_count": null,
      "outputs": []
    },
    {
      "cell_type": "code",
      "source": [
        "#First we need to perform non-linear transformation and then add a column of ones to the initial feature matrix\n",
        "m,n=X_train.shape\n",
        "print(\"Numnber of features before polynomial tranformation: \",n)\n",
        "X_perceptron_train=create_polynomial_features(X_train,2)\n",
        "m,n=X_perceptron_train.shape\n",
        "print(\"Number of features after polynomial tranformation: \",n)\n",
        "m,n=X_test.shape\n",
        "X_perceptron_test=create_polynomial_features(X_test,2)\n",
        "m,n=X_perceptron_test.shape\n"
      ],
      "metadata": {
        "id": "icvI2I6L6Pnj",
        "colab": {
          "base_uri": "https://localhost:8080/"
        },
        "outputId": "9e629c49-1290-4085-cc3b-54c518e10076"
      },
      "execution_count": null,
      "outputs": [
        {
          "output_type": "stream",
          "name": "stdout",
          "text": [
            "Numnber of features before polynomial tranformation:  10\n",
            "Number of features after polynomial tranformation:  21\n"
          ]
        }
      ]
    },
    {
      "cell_type": "code",
      "source": [
        "#Now we need to change the target matrix where 0 belongs to class 1 and the rest belong to class 2, 1 depicts class 1 where -1 depicts class 2\n",
        "m,n=Y_train.shape\n",
        "Y_perceptron_train=np.copy(Y_train)\n",
        "for i in range(m):\n",
        "    if(Y_perceptron_train[i]==0):\n",
        "      Y_perceptron_train[i]=1\n",
        "    else:\n",
        "      Y_perceptron_train[i]=-1\n",
        "Y_perceptron_test=np.copy(Y_test)\n",
        "m,n=Y_test.shape\n",
        "for i in range(m):\n",
        "    temp=Y_perceptron_test[i]\n",
        "    if(Y_perceptron_test[i]==0):\n",
        "        Y_perceptron_test[i]=1\n",
        "    else:\n",
        "        Y_perceptron_test[i]=-1"
      ],
      "metadata": {
        "id": "5ZFjCxuLNeeG"
      },
      "execution_count": null,
      "outputs": []
    },
    {
      "cell_type": "code",
      "source": [
        "def sign(X,w):#sign function\n",
        "    c=np.copy(w)\n",
        "    c=c.T\n",
        "    temp=np.dot(c,X)\n",
        "    temp.shape\n",
        "    if(temp>=0):\n",
        "      return 1\n",
        "    else:\n",
        "      return -1"
      ],
      "metadata": {
        "id": "ndI4Dtz48xEr"
      },
      "execution_count": null,
      "outputs": []
    },
    {
      "cell_type": "code",
      "source": [
        "def perceptron(X,Y,w,a,iters):\n",
        "    temp=iters/100\n",
        "    loss_array=[]\n",
        "    iter_array=[]\n",
        "    for i in range(iters):\n",
        "        loss=0\n",
        "        for j in range(m):\n",
        "          xi=np.array(X[j]).reshape((-1, 1))\n",
        "          w=w+a*(Y[j]-sign(xi,w))*xi\n",
        "          loss+=(Y[j]-sign(xi,w))**2\n",
        "        if(i%temp==0):\n",
        "          loss_array.append(loss)\n",
        "          iter_array.append(i)\n",
        "    loss_array.append(loss)\n",
        "    iter_array.append(iters)\n",
        "    return w,loss_array,iter_array\n"
      ],
      "metadata": {
        "id": "dhg3MGg59g0b"
      },
      "execution_count": null,
      "outputs": []
    },
    {
      "cell_type": "code",
      "source": [
        "#Now to train our perceptron model\n",
        "m,n=X_perceptron_train.shape\n",
        "w=np.ones((n,1))\n",
        "a=0.0006\n",
        "iters=1000\n",
        "w,perceptron_loss,perceptron_iter=perceptron(X_perceptron_train,Y_perceptron_train,w,a,iters)\n",
        "print(\"w: \")\n",
        "print(w)\n",
        "m,n=X_perceptron_train.shape\n",
        "true_positive=0\n",
        "false_positive=0\n",
        "true_negative=0\n",
        "false_negative=0\n",
        "for i in range(m):\n",
        "    if(sign(X_perceptron_train[i],w)==1):\n",
        "        if(Y_perceptron_train[i]==1):\n",
        "            true_positive+=1\n",
        "        else:\n",
        "            false_positive+=1\n",
        "    else:\n",
        "        if(Y_perceptron_train[i]==-1):\n",
        "            true_negative+=1\n",
        "        else:\n",
        "            false_negative+=1\n",
        "print(\"True positive: \", true_positive)\n",
        "print(\"False positive: \",false_positive)\n",
        "print(\"True negative: \",true_negative)\n",
        "print(\"False negative: \",false_negative)\n",
        "print(\"Accuracy on Training set: \",((true_positive+true_negative)/m)*100, \"%\")"
      ],
      "metadata": {
        "id": "P8E-pi9HOYOf",
        "colab": {
          "base_uri": "https://localhost:8080/"
        },
        "outputId": "54fec0b2-e936-48f4-faee-42d4c49e0170"
      },
      "execution_count": null,
      "outputs": [
        {
          "output_type": "stream",
          "name": "stdout",
          "text": [
            "w: \n",
            "[[-0.5504]\n",
            " [ 0.0424]\n",
            " [-0.1508]\n",
            " [ 0.7996]\n",
            " [-0.0068]\n",
            " [-0.0692]\n",
            " [-0.0608]\n",
            " [-0.0656]\n",
            " [ 0.0544]\n",
            " [-0.0704]\n",
            " [ 0.2092]\n",
            " [-0.02  ]\n",
            " [-0.1508]\n",
            " [-0.1916]\n",
            " [ 0.0172]\n",
            " [ 0.01  ]\n",
            " [-0.0608]\n",
            " [ 0.016 ]\n",
            " [ 0.0088]\n",
            " [-0.0704]\n",
            " [-0.074 ]]\n",
            "True positive:  167\n",
            "False positive:  30\n",
            "True negative:  228\n",
            "False negative:  79\n",
            "Accuracy on Training set:  78.37301587301587 %\n"
          ]
        }
      ]
    },
    {
      "cell_type": "code",
      "source": [
        "#Testing the model\n",
        "m,n=X_perceptron_test.shape\n",
        "true_positive=0\n",
        "false_positive=0\n",
        "true_negative=0\n",
        "false_negative=0\n",
        "for i in range(m):\n",
        "    if(sign(X_perceptron_test[i],w)==1):\n",
        "        if(Y_perceptron_test[i]==1):\n",
        "            true_positive+=1\n",
        "        else:\n",
        "            false_positive+=1\n",
        "    else:\n",
        "        if(Y_perceptron_test[i]==-1):\n",
        "            true_negative+=1\n",
        "        else:\n",
        "            false_negative+=1\n",
        "print(\"True positive: \", true_positive)\n",
        "print(\"False positive: \",false_positive)\n",
        "print(\"True negative: \",true_negative)\n",
        "print(\"False negative: \",false_negative)\n",
        "print(\"Accuracy on Testing set: \",((true_positive+true_negative)/m)*100, \"%\")"
      ],
      "metadata": {
        "id": "SGgLmk7YO5rn",
        "colab": {
          "base_uri": "https://localhost:8080/"
        },
        "outputId": "1596c1e3-12d3-4cee-bbfd-3566583eaea8"
      },
      "execution_count": null,
      "outputs": [
        {
          "output_type": "stream",
          "name": "stdout",
          "text": [
            "True positive:  70\n",
            "False positive:  6\n",
            "True negative:  104\n",
            "False negative:  37\n",
            "Accuracy on Testing set:  80.18433179723502 %\n"
          ]
        }
      ]
    },
    {
      "cell_type": "markdown",
      "source": [
        "# ***4. Naive Bayes Classifier***\n",
        "The Naive Bayes classifier is a probabilistic machine learning algorithm widely used for classification tasks, especially in natural language processing and spam filtering. Despite its simplicity, it often performs surprisingly well in practice.\n",
        "\n",
        "## Key Concepts:\n",
        "\n",
        "### 1. Bayes' Theorem:\n",
        "\n",
        "Bayes' Theorem is the foundation of the Naive Bayes classifier. It relates the conditional and marginal probabilities of random events.\n",
        "\n",
        "$\n",
        "P(A|B) = \\frac{P(B|A) \\cdot P(A)}{P(B)}\n",
        "$\n",
        "\n",
        "Where:\n",
        "- \\( P(A|B) \\) is the probability of event A given that event B has occurred.\n",
        "- \\( P(B|A) \\) is the probability of event B given that event A has occurred.\n",
        "- \\( P(A) \\) and \\( P(B) \\) are the marginal probabilities of events A and B, respectively.\n",
        "\n",
        "### 2. Naive Bayes Assumption:\n",
        "\n",
        "The \"naive\" assumption in Naive Bayes is that features are conditionally independent given the class label. This simplifying assumption allows the algorithm to model the joint probability of a set of features more efficiently.\n",
        "\n",
        "$\n",
        "P(X_1, X_2, \\ldots, X_n | Y) = P(X_1 | Y) \\cdot P(X_2 | Y) \\cdot \\ldots \\cdot P(X_n | Y)\n",
        "$\n",
        "\n",
        "Where:\n",
        "- \\( X_1, X_2, \\ldots, X_n \\) are the features.\n",
        "- \\( Y \\) is the class label.\n",
        "\n",
        "### 3. Naive Bayes Classification:\n",
        "\n",
        "Given a set of features \\( X = \\{X_1, X_2, $\\ldots, X_n\\$} \\), the Naive Bayes classifier predicts the class label \\( Y \\) that maximizes the posterior probability:\n",
        "\n",
        "$\n",
        "P(Y | X) = \\frac{P(X | Y) \\cdot P(Y)}{P(X)}\n",
        "$\n",
        "\n",
        "The class label \\( Y \\) is chosen as:\n",
        "\n",
        "$\n",
        "\\hat{Y} = \\arg\\max_Y P(Y | X)$\n",
        "\n",
        "\n",
        "###*Note: Here we have binned the continuous feature data, so instead of using a likelihood function to estimate their conditional probability, we will directly calculate the probability normally.*"
      ],
      "metadata": {
        "id": "HqIC34nWR-n7"
      }
    },
    {
      "cell_type": "markdown",
      "source": [
        "##4.1 Calculating Class Probabilities\n",
        "This is done by simply dividing all positive and negative occurences of heart disease respectively by the total number of datapoints in the training set."
      ],
      "metadata": {
        "id": "4IXMwbRadZsg"
      }
    },
    {
      "cell_type": "code",
      "source": [
        "#CALCULATING CLASS PROBABILITIES USING TRAINING SET Y\n",
        "N_total = len(Y_train_nb)\n",
        "N_negative = 0\n",
        "N_positive = 0\n",
        "for i in range(0, N_total):\n",
        "    if Y_train_nb.iloc[i]['num'] == 0:\n",
        "        N_negative+=1\n",
        "    else:\n",
        "        N_positive+=1\n",
        "\n",
        "#CLASS PROBABILITIES\n",
        "Prob_negative = N_negative/N_total\n",
        "Prob_positive = N_positive/N_total\n",
        "\n",
        "print(\"Probablity of a sample not leading to heart disease: \" ,Prob_negative)\n",
        "print(\"Probability of a sample leading to heart disease: \", Prob_positive)"
      ],
      "metadata": {
        "id": "-hA5FysjSBzj",
        "colab": {
          "base_uri": "https://localhost:8080/"
        },
        "outputId": "261fa90a-ca12-4060-c5d0-63c1483fcd39"
      },
      "execution_count": null,
      "outputs": [
        {
          "output_type": "stream",
          "name": "stdout",
          "text": [
            "Probablity of a sample not leading to heart disease:  0.4844290657439446\n",
            "Probability of a sample leading to heart disease:  0.5155709342560554\n"
          ]
        }
      ]
    },
    {
      "cell_type": "markdown",
      "source": [
        "##4.2 Calculating All Conditional Probabilities\n",
        "Here, we have first split the training set according to 'True' or 'False' outcome. Next, for each respective outcome, we have iterated over each feature in that sub-dataset, and calculated the conditional probability for that feature, appending it to a dictionary for that particular outcome. For continuous features that were binned, we noticed that often certain bin values did not appear at all for a particular outcome. In order to prevent a zero probability from messing up calculations, we simply added a nominal bin count of 1 for that particular feature, which ensures a non-zero albeit very small probability."
      ],
      "metadata": {
        "id": "gWzlHZBndUoA"
      }
    },
    {
      "cell_type": "code",
      "source": [
        "mask_negative = df_train_nb['num'] == 0\n",
        "mask_positive = df_train_nb['num'] > 0\n",
        "\n",
        "df_negative = df_train_nb[mask_negative]\n",
        "df_positive = df_train_nb[mask_positive]\n",
        "\n",
        "#Creating dictionaries to store\n",
        "negative = {}\n",
        "positive = {}\n",
        "for col in df_negative.columns:\n",
        "    if col in discr:\n",
        "        temp_dict = {} #Initialzing a dict like cp : {1: ,2: ,3: ...}\n",
        "        unique_vals = df_negative[col].unique() #finding unique vals in cp\n",
        "        col_length = len(df_negative[col]) #length of values in column\n",
        "        for i in unique_vals: #calculating prob for each unique value\n",
        "            unique_count = 0\n",
        "            for elem in df_negative[col]:\n",
        "                if elem == i:\n",
        "                    unique_count +=1\n",
        "            temp_dict[int(i)] = unique_count/col_length\n",
        "        negative[col] = temp_dict\n",
        "    elif col in cont:\n",
        "        temp_dict = {}\n",
        "        unique_vals = [1,2,3,4]\n",
        "        col_length = len(df_negative[col])\n",
        "        for i in unique_vals:\n",
        "            unique_count = 0\n",
        "            for elem in df_negative[col]:\n",
        "                if elem == i:\n",
        "                    unique_count +=1\n",
        "            if unique_count == 0:\n",
        "                unique_count = 1\n",
        "            temp_dict[int(i)] = unique_count/col_length\n",
        "        negative[col] = temp_dict\n",
        "\n",
        "for col in df_positive.columns:\n",
        "    if col in discr:\n",
        "        temp_dict = {} #Initialzing a dict like cp : {1: ,2: ,3: ...}\n",
        "        unique_vals = df_positive[col].unique() #finding unique vals in cp\n",
        "        col_length = len(df_positive[col]) #length of values in column\n",
        "        for i in unique_vals: #calculating prob for each unique value\n",
        "            unique_count = 0\n",
        "            for elem in df_positive[col]:\n",
        "                if elem == i:\n",
        "                    unique_count +=1\n",
        "            temp_dict[int(i)] = unique_count/col_length\n",
        "        positive[col] = temp_dict\n",
        "    elif col in cont:\n",
        "        temp_dict = {}\n",
        "        unique_vals = [1,2,3,4]\n",
        "        col_length = len(df_positive[col])\n",
        "        for i in unique_vals:\n",
        "            unique_count = 0\n",
        "            for elem in df_positive[col]:\n",
        "                if elem == i:\n",
        "                    unique_count +=1\n",
        "            if unique_count == 0:\n",
        "                unique_count = 1\n",
        "            temp_dict[int(i)] = unique_count/col_length\n",
        "        positive[col] = temp_dict\n",
        "\n",
        "print(\"Negative outcome posterior probabilities: \" , negative)\n",
        "print(\"Positive outcome posteriour probabilities: \", positive)"
      ],
      "metadata": {
        "colab": {
          "base_uri": "https://localhost:8080/"
        },
        "id": "m2XNVGCUb61Z",
        "outputId": "a221be6f-91f2-408e-fdf4-3f98116ce90c"
      },
      "execution_count": null,
      "outputs": [
        {
          "output_type": "stream",
          "name": "stdout",
          "text": [
            "Negative outcome posterior probabilities:  {'age': {1: 0.14285714285714285, 2: 0.43214285714285716, 3: 0.35714285714285715, 4: 0.06785714285714285}, 'sex': {0: 0.37857142857142856, 1: 0.6214285714285714}, 'cp': {3: 0.33214285714285713, 2: 0.37142857142857144, 4: 0.24642857142857144, 1: 0.05}, 'trestbps': {1: 0.175, 2: 0.5392857142857143, 3: 0.26785714285714285, 4: 0.017857142857142856}, 'chol': {1: 0.03214285714285714, 2: 0.2357142857142857, 3: 0.6392857142857142, 4: 0.09285714285714286}, 'fbs': {0: 0.9035714285714286, 1: 0.09642857142857143}, 'restecg': {2: 0.20357142857142857, 0: 0.675, 1: 0.12142857142857143}, 'thalach': {1: 0.010714285714285714, 2: 0.15357142857142858, 3: 0.4357142857142857, 4: 0.4}, 'exang': {0: 0.8464285714285714, 1: 0.15357142857142858}, 'oldpeak': {1: 0.6678571428571428, 2: 0.25, 3: 0.07142857142857142, 4: 0.010714285714285714}}\n",
            "Positive outcome posteriour probabilities:  {'age': {1: 0.053691275167785234, 2: 0.2785234899328859, 3: 0.5201342281879194, 4: 0.1476510067114094}, 'sex': {1: 0.8926174496644296, 0: 0.10738255033557047}, 'cp': {4: 0.7718120805369127, 1: 0.040268456375838924, 3: 0.12751677852348994, 2: 0.06040268456375839}, 'trestbps': {1: 0.12080536912751678, 2: 0.4563758389261745, 3: 0.3624161073825503, 4: 0.06040268456375839}, 'chol': {1: 0.174496644295302, 2: 0.16778523489932887, 3: 0.5637583892617449, 4: 0.09395973154362416}, 'fbs': {0: 0.8187919463087249, 1: 0.18120805369127516}, 'restecg': {0: 0.540268456375839, 2: 0.23154362416107382, 1: 0.22818791946308725}, 'thalach': {1: 0.07046979865771812, 2: 0.4261744966442953, 3: 0.38926174496644295, 4: 0.11409395973154363}, 'exang': {1: 0.6375838926174496, 0: 0.3624161073825503}, 'oldpeak': {1: 0.28523489932885904, 2: 0.32550335570469796, 3: 0.2550335570469799, 4: 0.1342281879194631}}\n"
          ]
        }
      ]
    },
    {
      "cell_type": "markdown",
      "source": [
        "##4.3 Testing the accuracy on the test set\n",
        "Here, using the formula for calculating posterior probability in order to evalualate the effectiveness of the Naive Bayes Classifier. Probability for negative outcome and positive outcome are calculated separately and then compared to see which one is greater. This is appended to an \"outcome\" array, from which we derive accuracy."
      ],
      "metadata": {
        "id": "FASMXG2xdgGQ"
      }
    },
    {
      "cell_type": "code",
      "source": [
        "#CALCULATING ACCURACY USING TEST SET\n",
        "outcome = np.zeros((len(Y_test_nb),1))\n",
        "\n",
        "for i in range(0, len(outcome)):\n",
        "    test = X_test_nb.iloc[i, :] #test example\n",
        "    neg_prob = Prob_negative\n",
        "    pos_prob = Prob_positive\n",
        "    for feature,value in test.items():\n",
        "            try:\n",
        "                neg_prob = neg_prob * (negative[feature][value])\n",
        "                pos_prob = pos_prob * (positive[feature][value])\n",
        "            except:\n",
        "                print(feature, value)\n",
        "    if neg_prob > pos_prob:\n",
        "        outcome[i] = 0\n",
        "    elif pos_prob > neg_prob:\n",
        "        outcome[i] = 1\n",
        "\n",
        "Y_test_nb.loc[Y_test_nb[\"num\"] > 0 , \"num\"] = 1\n",
        "Y_test_nb = Y_test_nb.to_numpy()\n",
        "\n",
        "\n",
        "sum = 0\n",
        "for i in range(0, len(Y_test_nb)):\n",
        "    if Y_test_nb[i] == outcome[i]:\n",
        "        sum += 1\n",
        "\n",
        "print(\"Accuracy: \" , (sum/len(Y_test_nb)))"
      ],
      "metadata": {
        "colab": {
          "base_uri": "https://localhost:8080/"
        },
        "id": "CZZxDmUFb7Nx",
        "outputId": "acf4c1fe-0a6a-464a-e3b1-4c13f2dd5ce6"
      },
      "execution_count": null,
      "outputs": [
        {
          "output_type": "stream",
          "name": "stdout",
          "text": [
            "Accuracy:  0.8321678321678322\n"
          ]
        }
      ]
    },
    {
      "cell_type": "code",
      "source": [],
      "metadata": {
        "id": "PVcMhGevvlwD"
      },
      "execution_count": null,
      "outputs": []
    },
    {
      "cell_type": "markdown",
      "source": [
        "# ***5. ML Model 4 (Based on research literature)***"
      ],
      "metadata": {
        "id": "8g7NxS5sSCRv"
      }
    },
    {
      "cell_type": "markdown",
      "source": [
        "## Artificial Neural Networks (ANNs)\n",
        "\n",
        "Artificial Neural Networks (ANNs) are a class of machine learning models inspired by the structure and functioning of the human brain. ANNs consist of interconnected nodes, often referred to as neurons or artificial neurons, organized into layers. The three main types of layers in an ANN are the input layer, hidden layers, and output layer.\n",
        "\n",
        "### Basic Structure\n",
        "\n",
        "The basic structure of an ANN involves the following components:\n",
        "\n",
        "1. **Input Layer:** The input layer represents the features of the dataset. Each node in the input layer corresponds to a feature.\n",
        "\n",
        "2. **Hidden Layers:** Between the input and output layers, there can be one or more hidden layers. Each node in a hidden layer performs a weighted sum of its inputs, applies an activation function, and passes the result to the next layer.\n",
        "\n",
        "3. **Output Layer:** The output layer produces the final prediction or classification. The number of nodes in the output layer depends on the nature of the problem (e.g., binary or multiclass classification).\n",
        "\n",
        "### Neuron Activation\n",
        "\n",
        "Each neuron in an ANN has an activation function, typically a non-linear function such as the sigmoid ($\\sigma$), hyperbolic tangent (tanh), or Rectified Linear Unit (ReLU). The activation function introduces non-linearity into the model, enabling it to learn complex relationships.\n",
        "\n",
        "The sigmoid activation function is given by:\n",
        "\n",
        "$ \\sigma(z) = \\frac{1}{1 + e^{-z}} $\n",
        "\n",
        "where $z$ is the weighted sum of inputs.\n",
        "\n",
        "The ReLU (Rectified Linear Unit) activation function is given by:\n",
        "\n",
        "$ \\text{ReLU}(z) = \\max(0, z) $\n",
        "\n",
        "### Training an ANN\n",
        "\n",
        "Training an ANN involves adjusting the weights of the connections between neurons to minimize the difference between predicted and actual outcomes. This process, known as backpropagation, uses optimization algorithms like gradient descent.\n",
        "\n",
        "The weight update for a single layer in backpropagation is given by:\n",
        "\n",
        "$ \\Delta w_{ij} = \\alpha \\cdot \\frac{\\partial E}{\\partial w_{ij}} $\n",
        "\n",
        "where $\\alpha$ is the learning rate and $E$ is the error.\n",
        "\n",
        "For a two hidden layer ANN, where the activation functions are RELU and the output layers activation function is sigmoid, the backpropogation values are as follows\n",
        "\n",
        "$ dZ^{[3]} = A^{[3]} - Y $\n",
        "\n",
        "$ dW^{[3]} = \\frac{1}{m} \\cdot A^{[2]T} \\cdot dZ^{[3]} $\n",
        "\n",
        "$ db^{[3]} = \\frac{1}{m} \\cdot \\sum_{i} dZ^{[3]} $\n",
        "\n",
        "$ dZ^{[2]} = \\left(dZ^{[3]} \\cdot W^{[3]T}\\right) \\cdot \\text{ReLU`}(A^{[2]}) $\n",
        "\n",
        "$ dW^{[2]} = \\frac{1}{m} \\cdot A^{[1]T} \\cdot dZ^{[2]} $\n",
        "\n",
        "$ db^{[2]} = \\frac{1}{m} \\cdot \\sum_{i} dZ^{[2]} $\n",
        "\n",
        "$ dZ^{[1]} = \\left(dZ^{[2]} \\cdot W^{[2]T}\\right) \\cdot \\text{ReLU`}(A^{[1]}) $\n",
        "\n",
        "$ dW^{[1]} = \\frac{1}{m} \\cdot X^T \\cdot dZ^{[1]} $\n",
        "\n",
        "$ db^{[1]} = \\frac{1}{m} \\cdot \\sum_{i} dZ^{[1]} $\n"
      ],
      "metadata": {
        "id": "CmS2zobK4jUQ"
      }
    },
    {
      "cell_type": "code",
      "source": [
        "# Sigmoid activation function\n",
        "def sigmoid(x):\n",
        "    return 1 / (1 + np.exp(-x))"
      ],
      "metadata": {
        "id": "Pw63z3amSSo_"
      },
      "execution_count": null,
      "outputs": []
    },
    {
      "cell_type": "code",
      "source": [
        "def sigmoid_derivative(x):\n",
        "    return x * (1 - x)\n"
      ],
      "metadata": {
        "id": "oJHAiEk3D-1I"
      },
      "execution_count": null,
      "outputs": []
    },
    {
      "cell_type": "code",
      "source": [
        "def initialize_parameters(input_size, hidden_size1, hidden_size2, output_size):\n",
        "    np.random.seed(42)\n",
        "    W1 = np.random.randn(input_size, hidden_size1)\n",
        "    b1 = np.zeros((1, hidden_size1))\n",
        "    W2 = np.random.randn(hidden_size1, hidden_size2)\n",
        "    b2 = np.zeros((1, hidden_size2))\n",
        "    W3 = np.random.randn(hidden_size2, output_size)\n",
        "    b3 = np.zeros((1, output_size))\n",
        "\n",
        "    return {'W1': W1, 'b1': b1, 'W2': W2, 'b2': b2, 'W3': W3, 'b3': b3}"
      ],
      "metadata": {
        "id": "Al1tYsSeGXXZ"
      },
      "execution_count": null,
      "outputs": []
    },
    {
      "cell_type": "code",
      "source": [
        "# ReLU activation function\n",
        "def relu(x):\n",
        "    return np.maximum(0, x)"
      ],
      "metadata": {
        "id": "tkh1oOr5S1o7"
      },
      "execution_count": null,
      "outputs": []
    },
    {
      "cell_type": "code",
      "source": [
        "def forward_propagation(X, parameters):\n",
        "    Z1 = np.dot(X, parameters['W1']) + parameters['b1']\n",
        "    A1 = relu(Z1)\n",
        "    Z2 = np.dot(A1, parameters['W2']) + parameters['b2']\n",
        "    A2 = relu(Z2)\n",
        "    Z3 = np.dot(A2, parameters['W3']) + parameters['b3']\n",
        "    A3 = sigmoid(Z3)\n",
        "\n",
        "    return {'Z1': Z1, 'A1': A1, 'Z2': Z2, 'A2': A2, 'Z3': Z3, 'A3': A3}"
      ],
      "metadata": {
        "id": "P5OFIvd03MWi"
      },
      "execution_count": null,
      "outputs": []
    },
    {
      "cell_type": "code",
      "source": [
        "def relu_derivative(x):\n",
        "    return np.where(x <= 0, 0, 1)"
      ],
      "metadata": {
        "id": "pWjs1OiD3tLi"
      },
      "execution_count": null,
      "outputs": []
    },
    {
      "cell_type": "code",
      "source": [
        "def compute_loss(Y, A3):\n",
        "    m = Y.shape[0]\n",
        "    loss = -1/m * np.sum(Y * np.log(A3) + (1 - Y) * np.log(1 - A3))\n",
        "    return loss"
      ],
      "metadata": {
        "id": "-kbKP1-bZ0MU"
      },
      "execution_count": null,
      "outputs": []
    },
    {
      "cell_type": "code",
      "source": [
        "def backward_propagation(X, Y, parameters, forward_results):\n",
        "    m = X.shape[0]\n",
        "\n",
        "    dZ3 = forward_results['A3'] - Y\n",
        "    dW3 = 1/m * np.dot(forward_results['A2'].T, dZ3)\n",
        "    db3 = 1/m * np.sum(dZ3, axis=0, keepdims=True)\n",
        "\n",
        "    dZ2 = np.dot(dZ3, parameters['W3'].T) * relu_derivative(forward_results['A2'])\n",
        "    dW2 = 1/m * np.dot(forward_results['A1'].T, dZ2)\n",
        "    db2 = 1/m * np.sum(dZ2, axis=0, keepdims=True)\n",
        "\n",
        "    dZ1 = np.dot(dZ2, parameters['W2'].T) * relu_derivative(forward_results['A1'])\n",
        "    dW1 = 1/m * np.dot(X.T, dZ1)\n",
        "    db1 = 1/m * np.sum(dZ1, axis=0, keepdims=True)\n",
        "\n",
        "    gradients = {'dW1': dW1, 'db1': db1, 'dW2': dW2, 'db2': db2, 'dW3': dW3, 'db3': db3}\n",
        "\n",
        "    return gradients\n",
        "\n"
      ],
      "metadata": {
        "id": "Aza_m1zZZ6vU"
      },
      "execution_count": null,
      "outputs": []
    },
    {
      "cell_type": "code",
      "source": [
        "def update_parameters(parameters, gradients, learning_rate=0.01):\n",
        "    parameters['W1'] -= learning_rate * gradients['dW1']\n",
        "    parameters['b1'] -= learning_rate * gradients['db1']\n",
        "    parameters['W2'] -= learning_rate * gradients['dW2']\n",
        "    parameters['b2'] -= learning_rate * gradients['db2']\n",
        "    parameters['W3'] -= learning_rate * gradients['dW3']\n",
        "    parameters['b3'] -= learning_rate * gradients['db3']\n",
        "# Assuming you have defined relu, sigmoid, and relu_derivative functions"
      ],
      "metadata": {
        "id": "nnRzyCSkaDGT"
      },
      "execution_count": null,
      "outputs": []
    },
    {
      "cell_type": "code",
      "execution_count": null,
      "metadata": {
        "id": "Ec7aSrDQ4Ys4",
        "colab": {
          "base_uri": "https://localhost:8080/"
        },
        "outputId": "90b414cc-1b54-415a-a242-85969651154c"
      },
      "outputs": [
        {
          "output_type": "stream",
          "name": "stdout",
          "text": [
            "Iteration 0, Loss: 2.192256696513996\n",
            "Iteration 500, Loss: 0.4401827820382722\n",
            "Iteration 1000, Loss: 0.4257032275142744\n",
            "Iteration 1500, Loss: 0.42157642394791606\n",
            "Iteration 2000, Loss: 0.4169172088512551\n",
            "Iteration 2500, Loss: 0.4121522562439796\n",
            "Iteration 3000, Loss: 0.4109508322310592\n",
            "Iteration 3500, Loss: 0.40708532014707144\n",
            "Iteration 4000, Loss: 0.4059444717738412\n",
            "Iteration 4500, Loss: 0.4030146194216611\n",
            "Iteration 5000, Loss: 0.40257272333859373\n"
          ]
        }
      ],
      "source": [
        "num_iterations = 5000\n",
        "m,n=X_train.shape\n",
        "input_size = n\n",
        "hidden_size1 = 8\n",
        "hidden_size2 = 8\n",
        "output_size = 1\n",
        "learning_rate=0.1\n",
        "parameters = initialize_parameters(input_size, hidden_size1, hidden_size2, output_size)\n",
        "ann_loss=[]\n",
        "ann_iter=[]\n",
        "t=num_iterations/10\n",
        "temp=num_iterations/100\n",
        "for i in range(num_iterations):\n",
        "    # Forward propagation\n",
        "    forward_results = forward_propagation(X_train, parameters)\n",
        "\n",
        "    # Compute loss\n",
        "    loss = compute_loss(Y_train, forward_results['A3'])\n",
        "\n",
        "    # Backward propagation\n",
        "    gradients = backward_propagation(X_train, Y_train, parameters, forward_results)\n",
        "\n",
        "    # Update parameters\n",
        "    update_parameters(parameters, gradients,learning_rate)\n",
        "    if(i%temp==0):\n",
        "      ann_loss.append(loss)\n",
        "      ann_iter.append(i)\n",
        "    if i % t == 0:\n",
        "        print(f'Iteration {i}, Loss: {loss}')\n",
        "print(f'Iteration {num_iterations}, Loss: {loss}')\n",
        "ann_loss.append(loss)\n",
        "ann_iter.append(num_iterations)"
      ]
    },
    {
      "cell_type": "code",
      "source": [
        "#Let us test the accuracy on the training set\n",
        "m,n=X_train.shape\n",
        "true_positive=0\n",
        "false_positive=0\n",
        "true_negative=0\n",
        "false_negative=0\n",
        "wrong=0\n",
        "output=forward_propagation(X_train,parameters)\n",
        "for i in range(m):\n",
        "    temp=0\n",
        "    if(output['A3'][i]>0.5):\n",
        "      temp=1\n",
        "    else:\n",
        "      temp=0\n",
        "    if(temp==1):\n",
        "      if(Y_train[i]==1):\n",
        "        true_positive+=1\n",
        "      else:\n",
        "        false_positive+=1\n",
        "    else:\n",
        "      if(Y_train[i]==0):\n",
        "        true_negative+=1\n",
        "      else:\n",
        "        false_negative+=1\n",
        "print(\"True positive: \", true_positive)\n",
        "print(\"False positive: \",false_positive)\n",
        "print(\"True negative: \",true_negative)\n",
        "print(\"False negative: \",false_negative)\n",
        "print(\"Accuracy on Training set: \",((true_positive+true_negative)/m)*100, \"%\")"
      ],
      "metadata": {
        "id": "Cm9nT9VPALIB",
        "colab": {
          "base_uri": "https://localhost:8080/"
        },
        "outputId": "b96b738e-985d-46d3-bbc0-f82c359be533"
      },
      "execution_count": null,
      "outputs": [
        {
          "output_type": "stream",
          "name": "stdout",
          "text": [
            "True positive:  204\n",
            "False positive:  31\n",
            "True negative:  215\n",
            "False negative:  54\n",
            "Accuracy on Training set:  83.13492063492063 %\n"
          ]
        }
      ]
    },
    {
      "cell_type": "code",
      "execution_count": null,
      "metadata": {
        "id": "8sWof9YXfE2h",
        "colab": {
          "base_uri": "https://localhost:8080/"
        },
        "outputId": "8c978169-e5e9-45b8-d287-0fdf19a295ba"
      },
      "outputs": [
        {
          "output_type": "stream",
          "name": "stdout",
          "text": [
            "True positive:  94\n",
            "False positive:  23\n",
            "True negative:  84\n",
            "False negative:  16\n",
            "Accuracy on Testing set:  82.02764976958525 %\n"
          ]
        }
      ],
      "source": [
        "#Let us test the accuracy on the testing set\n",
        "m,n=X_test.shape\n",
        "true_positive=0\n",
        "false_positive=0\n",
        "true_negative=0\n",
        "false_negative=0\n",
        "wrong=0\n",
        "output=forward_propagation(X_test,parameters)\n",
        "for i in range(m):\n",
        "    temp=0\n",
        "    if(output['A3'][i]>0.5):\n",
        "      temp=1\n",
        "    else:\n",
        "      temp=0\n",
        "    if(temp==1):\n",
        "      if(Y_test[i]==1):\n",
        "        true_positive+=1\n",
        "      else:\n",
        "        false_positive+=1\n",
        "    else:\n",
        "      if(Y_test[i]==0):\n",
        "        true_negative+=1\n",
        "      else:\n",
        "        false_negative+=1\n",
        "print(\"True positive: \", true_positive)\n",
        "print(\"False positive: \",false_positive)\n",
        "print(\"True negative: \",true_negative)\n",
        "print(\"False negative: \",false_negative)\n",
        "print(\"Accuracy on Testing set: \",((true_positive+true_negative)/m)*100, \"%\")"
      ]
    },
    {
      "cell_type": "markdown",
      "source": [
        "# ***6. Comparison of insights drawn from the models***\n",
        "####Based on the values of accuracy we obtained from above, the models can be ranked in the following order based on their performance (in descending order):\n",
        "\n",
        "\n",
        "1.   Naive Bayes Classifier (83.21%)\n",
        "2.   Artificial Neural Network (82.07%)\n",
        "3.   Perceptron (80.18%)\n",
        "\n",
        "4. Fisher's Linear Discrimnant (78.34%)\n",
        "\n",
        "####Naive Bayes most probably excelled because the dataset was smaller and its assumption of feature independnce held, allowing it to generalize better with limited information. The computational simplicity of Naive Bayes might have been advantageous over the resource-intensive training of an Artificial Neural Network.\n",
        "####Both ANN and Naive Bayes outperformed Perceptron most likely because they were able to capture non-linear relationships within the data. This flexibility allowed them to handle more complex decision boundaries.\n",
        "####Fisher most likely performed the worst because it couldn't handle the non-linear data relationships\n",
        "####Naive Bayes Classifier is not a very complex model, but based on its historic performance, it surprisingly tends to outperform more complex models as we see here.\n",
        "\n",
        "\n"
      ],
      "metadata": {
        "id": "4NLLqBbpekFY"
      }
    },
    {
      "cell_type": "code",
      "execution_count": null,
      "metadata": {
        "colab": {
          "base_uri": "https://localhost:8080/",
          "height": 898
        },
        "outputId": "b0cc4952-d401-4b2d-fca5-7c36eb1ea9c6",
        "id": "YqrSipIk1HMo"
      },
      "outputs": [
        {
          "output_type": "execute_result",
          "data": {
            "text/plain": [
              "Text(0.5, 0, 'Iterations')"
            ]
          },
          "metadata": {},
          "execution_count": 88
        },
        {
          "output_type": "display_data",
          "data": {
            "text/plain": [
              "<Figure size 640x480 with 1 Axes>"
            ],
            "image/png": "[encoded data removed]"
          },
          "metadata": {}
        },
        {
          "output_type": "display_data",
          "data": {
            "text/plain": [
              "<Figure size 640x480 with 1 Axes>"
            ],
            "image/png": "[encoded data removed]"
          },
          "metadata": {}
        }
      ],
      "source": [
        "f=plt.figure(1)\n",
        "plt.plot(perceptron_iter,perceptron_loss)\n",
        "plt.ylabel('Perceptron Loss')\n",
        "plt.xlabel('Iterations')\n",
        "g=plt.figure(2)\n",
        "plt.plot(ann_iter,ann_loss)\n",
        "plt.ylabel('ANN Loss')\n",
        "plt.xlabel('Iterations')"
      ]
    },
    {
      "cell_type": "markdown",
      "source": [
        "# **_7. References_**\n",
        "\n",
        "1.   https://www.geeksforgeeks.org/naive-bayes-classifiers/\n",
        "2.   https://towardsdatascience.com/naive-bayes-classifier-81d512f50a7c\n",
        "3.   https://cs229.stanford.edu/notes2020spring/cs229-notes-deep_learning.pdf\n",
        "4.   https://www.vfast.org/journals/index.php/VTSE/article/view/511/pdf_25"
      ],
      "metadata": {
        "id": "81SwQ_y4TaSc"
      }
    }
  ]
}